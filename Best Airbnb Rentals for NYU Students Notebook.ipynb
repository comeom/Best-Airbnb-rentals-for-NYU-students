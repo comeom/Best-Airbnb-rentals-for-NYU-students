{
 "cells": [
  {
   "cell_type": "markdown",
   "metadata": {},
   "source": [
    "<h1 align=center><font size = 6>Best Airbnb Rentals for NYU Students</font></h1>"
   ]
  },
  {
   "cell_type": "markdown",
   "metadata": {},
   "source": [
    "<h2 align=center><font size = 5>By Charles Hu</font></h2>"
   ]
  },
  {
   "cell_type": "markdown",
   "metadata": {},
   "source": [
    "## Introduction\n",
    "\n",
    "In this project, we will be exploring the best Airbnb options for students attending New York University. This will be done by analyzing the 'New York City Airbnb Open Data' Dataset on Kaggle, combined with using the Foursquare API to find the venues near each Airbnb listing."
   ]
  },
  {
   "cell_type": "markdown",
   "metadata": {},
   "source": [
    "## Table of Contents\n",
    "\n",
    "<div class=\"alert alert-block alert-info\" style=\"margin-top: 20px\">\n",
    "\n",
    "<font size = 3>\n",
    "\n",
    "1. <a href=\"#item1\">Download and Explore Dataset</a>\n",
    "\n",
    "2. <a href=\"#item2\">Choosing Desirable Airbnb Features</a>\n",
    "\n",
    "3. <a href=\"#item3\">Foursquare Data Import and Analysis</a>\n",
    "\n",
    "4. <a href=\"#item4\">Conclusion</a> \n",
    "</font>\n",
    "</div>"
   ]
  },
  {
   "cell_type": "markdown",
   "metadata": {},
   "source": [
    "Some imports first."
   ]
  },
  {
   "cell_type": "code",
   "execution_count": 1,
   "metadata": {},
   "outputs": [
    {
     "name": "stdout",
     "output_type": "stream",
     "text": [
      "Libraries imported.\n"
     ]
    }
   ],
   "source": [
    "import pandas as pd\n",
    "import numpy as np\n",
    "\n",
    "#!conda install -c conda-forge geopy --yes # uncomment this line if you haven't completed the Foursquare API lab\n",
    "from geopy.geocoders import Nominatim # convert an address into latitude and longitude values\n",
    "\n",
    "import requests # library to handle requests\n",
    "from pandas.io.json import json_normalize # tranform JSON file into a pandas dataframe\n",
    "\n",
    "# Matplotlib and associated plotting modules\n",
    "import matplotlib.cm as cm\n",
    "import matplotlib.colors as colors\n",
    "\n",
    "# import k-means from clustering stage\n",
    "from sklearn.cluster import KMeans\n",
    "\n",
    "#!conda install -c conda-forge folium=0.5.0 --yes # uncomment this line if you haven't completed the Foursquare API lab\n",
    "import folium # map rendering library\n",
    "\n",
    "print('Libraries imported.')"
   ]
  },
  {
   "cell_type": "markdown",
   "metadata": {},
   "source": [
    "## 1. Download and Explore Dataset"
   ]
  },
  {
   "cell_type": "markdown",
   "metadata": {},
   "source": [
    "We will import the full dataset as 'airbnb', which was downloaded from: https://www.kaggle.com/dgomonov/new-york-city-airbnb-open-data?select=AB_NYC_2019.csv"
   ]
  },
  {
   "cell_type": "markdown",
   "metadata": {},
   "source": [
    "### First Glance"
   ]
  },
  {
   "cell_type": "code",
   "execution_count": 2,
   "metadata": {},
   "outputs": [],
   "source": [
    "airbnb = pd.read_csv('/Users/Wayne/Downloads/AB_NYC_2019.csv')"
   ]
  },
  {
   "cell_type": "markdown",
   "metadata": {},
   "source": [
    "Taking a preliminary look at the dataset:"
   ]
  },
  {
   "cell_type": "code",
   "execution_count": 3,
   "metadata": {},
   "outputs": [
    {
     "data": {
      "text/html": [
       "<div>\n",
       "<style scoped>\n",
       "    .dataframe tbody tr th:only-of-type {\n",
       "        vertical-align: middle;\n",
       "    }\n",
       "\n",
       "    .dataframe tbody tr th {\n",
       "        vertical-align: top;\n",
       "    }\n",
       "\n",
       "    .dataframe thead th {\n",
       "        text-align: right;\n",
       "    }\n",
       "</style>\n",
       "<table border=\"1\" class=\"dataframe\">\n",
       "  <thead>\n",
       "    <tr style=\"text-align: right;\">\n",
       "      <th></th>\n",
       "      <th>id</th>\n",
       "      <th>name</th>\n",
       "      <th>host_id</th>\n",
       "      <th>host_name</th>\n",
       "      <th>neighbourhood_group</th>\n",
       "      <th>neighbourhood</th>\n",
       "      <th>latitude</th>\n",
       "      <th>longitude</th>\n",
       "      <th>room_type</th>\n",
       "      <th>price</th>\n",
       "      <th>minimum_nights</th>\n",
       "      <th>number_of_reviews</th>\n",
       "      <th>last_review</th>\n",
       "      <th>reviews_per_month</th>\n",
       "      <th>calculated_host_listings_count</th>\n",
       "      <th>availability_365</th>\n",
       "    </tr>\n",
       "  </thead>\n",
       "  <tbody>\n",
       "    <tr>\n",
       "      <th>0</th>\n",
       "      <td>2539</td>\n",
       "      <td>Clean &amp; quiet apt home by the park</td>\n",
       "      <td>2787</td>\n",
       "      <td>John</td>\n",
       "      <td>Brooklyn</td>\n",
       "      <td>Kensington</td>\n",
       "      <td>40.64749</td>\n",
       "      <td>-73.97237</td>\n",
       "      <td>Private room</td>\n",
       "      <td>149</td>\n",
       "      <td>1</td>\n",
       "      <td>9</td>\n",
       "      <td>2018-10-19</td>\n",
       "      <td>0.21</td>\n",
       "      <td>6</td>\n",
       "      <td>365</td>\n",
       "    </tr>\n",
       "    <tr>\n",
       "      <th>1</th>\n",
       "      <td>2595</td>\n",
       "      <td>Skylit Midtown Castle</td>\n",
       "      <td>2845</td>\n",
       "      <td>Jennifer</td>\n",
       "      <td>Manhattan</td>\n",
       "      <td>Midtown</td>\n",
       "      <td>40.75362</td>\n",
       "      <td>-73.98377</td>\n",
       "      <td>Entire home/apt</td>\n",
       "      <td>225</td>\n",
       "      <td>1</td>\n",
       "      <td>45</td>\n",
       "      <td>2019-05-21</td>\n",
       "      <td>0.38</td>\n",
       "      <td>2</td>\n",
       "      <td>355</td>\n",
       "    </tr>\n",
       "    <tr>\n",
       "      <th>2</th>\n",
       "      <td>3647</td>\n",
       "      <td>THE VILLAGE OF HARLEM....NEW YORK !</td>\n",
       "      <td>4632</td>\n",
       "      <td>Elisabeth</td>\n",
       "      <td>Manhattan</td>\n",
       "      <td>Harlem</td>\n",
       "      <td>40.80902</td>\n",
       "      <td>-73.94190</td>\n",
       "      <td>Private room</td>\n",
       "      <td>150</td>\n",
       "      <td>3</td>\n",
       "      <td>0</td>\n",
       "      <td>NaN</td>\n",
       "      <td>NaN</td>\n",
       "      <td>1</td>\n",
       "      <td>365</td>\n",
       "    </tr>\n",
       "    <tr>\n",
       "      <th>3</th>\n",
       "      <td>3831</td>\n",
       "      <td>Cozy Entire Floor of Brownstone</td>\n",
       "      <td>4869</td>\n",
       "      <td>LisaRoxanne</td>\n",
       "      <td>Brooklyn</td>\n",
       "      <td>Clinton Hill</td>\n",
       "      <td>40.68514</td>\n",
       "      <td>-73.95976</td>\n",
       "      <td>Entire home/apt</td>\n",
       "      <td>89</td>\n",
       "      <td>1</td>\n",
       "      <td>270</td>\n",
       "      <td>2019-07-05</td>\n",
       "      <td>4.64</td>\n",
       "      <td>1</td>\n",
       "      <td>194</td>\n",
       "    </tr>\n",
       "    <tr>\n",
       "      <th>4</th>\n",
       "      <td>5022</td>\n",
       "      <td>Entire Apt: Spacious Studio/Loft by central park</td>\n",
       "      <td>7192</td>\n",
       "      <td>Laura</td>\n",
       "      <td>Manhattan</td>\n",
       "      <td>East Harlem</td>\n",
       "      <td>40.79851</td>\n",
       "      <td>-73.94399</td>\n",
       "      <td>Entire home/apt</td>\n",
       "      <td>80</td>\n",
       "      <td>10</td>\n",
       "      <td>9</td>\n",
       "      <td>2018-11-19</td>\n",
       "      <td>0.10</td>\n",
       "      <td>1</td>\n",
       "      <td>0</td>\n",
       "    </tr>\n",
       "  </tbody>\n",
       "</table>\n",
       "</div>"
      ],
      "text/plain": [
       "     id                                              name  host_id  \\\n",
       "0  2539                Clean & quiet apt home by the park     2787   \n",
       "1  2595                             Skylit Midtown Castle     2845   \n",
       "2  3647               THE VILLAGE OF HARLEM....NEW YORK !     4632   \n",
       "3  3831                   Cozy Entire Floor of Brownstone     4869   \n",
       "4  5022  Entire Apt: Spacious Studio/Loft by central park     7192   \n",
       "\n",
       "     host_name neighbourhood_group neighbourhood  latitude  longitude  \\\n",
       "0         John            Brooklyn    Kensington  40.64749  -73.97237   \n",
       "1     Jennifer           Manhattan       Midtown  40.75362  -73.98377   \n",
       "2    Elisabeth           Manhattan        Harlem  40.80902  -73.94190   \n",
       "3  LisaRoxanne            Brooklyn  Clinton Hill  40.68514  -73.95976   \n",
       "4        Laura           Manhattan   East Harlem  40.79851  -73.94399   \n",
       "\n",
       "         room_type  price  minimum_nights  number_of_reviews last_review  \\\n",
       "0     Private room    149               1                  9  2018-10-19   \n",
       "1  Entire home/apt    225               1                 45  2019-05-21   \n",
       "2     Private room    150               3                  0         NaN   \n",
       "3  Entire home/apt     89               1                270  2019-07-05   \n",
       "4  Entire home/apt     80              10                  9  2018-11-19   \n",
       "\n",
       "   reviews_per_month  calculated_host_listings_count  availability_365  \n",
       "0               0.21                               6               365  \n",
       "1               0.38                               2               355  \n",
       "2                NaN                               1               365  \n",
       "3               4.64                               1               194  \n",
       "4               0.10                               1                 0  "
      ]
     },
     "execution_count": 3,
     "metadata": {},
     "output_type": "execute_result"
    }
   ],
   "source": [
    "airbnb.head()"
   ]
  },
  {
   "cell_type": "code",
   "execution_count": 4,
   "metadata": {},
   "outputs": [
    {
     "data": {
      "text/plain": [
       "(48895, 16)"
      ]
     },
     "execution_count": 4,
     "metadata": {},
     "output_type": "execute_result"
    }
   ],
   "source": [
    "airbnb.shape"
   ]
  },
  {
   "cell_type": "code",
   "execution_count": 5,
   "metadata": {},
   "outputs": [
    {
     "data": {
      "text/plain": [
       "id                                    0\n",
       "name                                 16\n",
       "host_id                               0\n",
       "host_name                            21\n",
       "neighbourhood_group                   0\n",
       "neighbourhood                         0\n",
       "latitude                              0\n",
       "longitude                             0\n",
       "room_type                             0\n",
       "price                                 0\n",
       "minimum_nights                        0\n",
       "number_of_reviews                     0\n",
       "last_review                       10052\n",
       "reviews_per_month                 10052\n",
       "calculated_host_listings_count        0\n",
       "availability_365                      0\n",
       "dtype: int64"
      ]
     },
     "execution_count": 5,
     "metadata": {},
     "output_type": "execute_result"
    }
   ],
   "source": [
    "airbnb.isnull().sum()"
   ]
  },
  {
   "cell_type": "markdown",
   "metadata": {},
   "source": [
    "### Dropping / Filling Null"
   ]
  },
  {
   "cell_type": "markdown",
   "metadata": {},
   "source": [
    "We can already see that some features won't be useful in our analysis. 'id', 'host_id', 'last_review', 'reviews_per_month', and 'calculated_host_listings_count' don't contain any insightful information; however, 'id' and 'host_id' may be useful for students searching the Airbnb. We therefore only drop 'last_review', 'reviews_per_month', and 'calculated_host_listings_count'. "
   ]
  },
  {
   "cell_type": "code",
   "execution_count": 6,
   "metadata": {},
   "outputs": [
    {
     "data": {
      "text/html": [
       "<div>\n",
       "<style scoped>\n",
       "    .dataframe tbody tr th:only-of-type {\n",
       "        vertical-align: middle;\n",
       "    }\n",
       "\n",
       "    .dataframe tbody tr th {\n",
       "        vertical-align: top;\n",
       "    }\n",
       "\n",
       "    .dataframe thead th {\n",
       "        text-align: right;\n",
       "    }\n",
       "</style>\n",
       "<table border=\"1\" class=\"dataframe\">\n",
       "  <thead>\n",
       "    <tr style=\"text-align: right;\">\n",
       "      <th></th>\n",
       "      <th>id</th>\n",
       "      <th>name</th>\n",
       "      <th>host_id</th>\n",
       "      <th>host_name</th>\n",
       "      <th>neighbourhood_group</th>\n",
       "      <th>neighbourhood</th>\n",
       "      <th>latitude</th>\n",
       "      <th>longitude</th>\n",
       "      <th>room_type</th>\n",
       "      <th>price</th>\n",
       "      <th>minimum_nights</th>\n",
       "      <th>number_of_reviews</th>\n",
       "      <th>availability_365</th>\n",
       "    </tr>\n",
       "  </thead>\n",
       "  <tbody>\n",
       "    <tr>\n",
       "      <th>0</th>\n",
       "      <td>2539</td>\n",
       "      <td>Clean &amp; quiet apt home by the park</td>\n",
       "      <td>2787</td>\n",
       "      <td>John</td>\n",
       "      <td>Brooklyn</td>\n",
       "      <td>Kensington</td>\n",
       "      <td>40.64749</td>\n",
       "      <td>-73.97237</td>\n",
       "      <td>Private room</td>\n",
       "      <td>149</td>\n",
       "      <td>1</td>\n",
       "      <td>9</td>\n",
       "      <td>365</td>\n",
       "    </tr>\n",
       "    <tr>\n",
       "      <th>1</th>\n",
       "      <td>2595</td>\n",
       "      <td>Skylit Midtown Castle</td>\n",
       "      <td>2845</td>\n",
       "      <td>Jennifer</td>\n",
       "      <td>Manhattan</td>\n",
       "      <td>Midtown</td>\n",
       "      <td>40.75362</td>\n",
       "      <td>-73.98377</td>\n",
       "      <td>Entire home/apt</td>\n",
       "      <td>225</td>\n",
       "      <td>1</td>\n",
       "      <td>45</td>\n",
       "      <td>355</td>\n",
       "    </tr>\n",
       "    <tr>\n",
       "      <th>2</th>\n",
       "      <td>3647</td>\n",
       "      <td>THE VILLAGE OF HARLEM....NEW YORK !</td>\n",
       "      <td>4632</td>\n",
       "      <td>Elisabeth</td>\n",
       "      <td>Manhattan</td>\n",
       "      <td>Harlem</td>\n",
       "      <td>40.80902</td>\n",
       "      <td>-73.94190</td>\n",
       "      <td>Private room</td>\n",
       "      <td>150</td>\n",
       "      <td>3</td>\n",
       "      <td>0</td>\n",
       "      <td>365</td>\n",
       "    </tr>\n",
       "    <tr>\n",
       "      <th>3</th>\n",
       "      <td>3831</td>\n",
       "      <td>Cozy Entire Floor of Brownstone</td>\n",
       "      <td>4869</td>\n",
       "      <td>LisaRoxanne</td>\n",
       "      <td>Brooklyn</td>\n",
       "      <td>Clinton Hill</td>\n",
       "      <td>40.68514</td>\n",
       "      <td>-73.95976</td>\n",
       "      <td>Entire home/apt</td>\n",
       "      <td>89</td>\n",
       "      <td>1</td>\n",
       "      <td>270</td>\n",
       "      <td>194</td>\n",
       "    </tr>\n",
       "    <tr>\n",
       "      <th>4</th>\n",
       "      <td>5022</td>\n",
       "      <td>Entire Apt: Spacious Studio/Loft by central park</td>\n",
       "      <td>7192</td>\n",
       "      <td>Laura</td>\n",
       "      <td>Manhattan</td>\n",
       "      <td>East Harlem</td>\n",
       "      <td>40.79851</td>\n",
       "      <td>-73.94399</td>\n",
       "      <td>Entire home/apt</td>\n",
       "      <td>80</td>\n",
       "      <td>10</td>\n",
       "      <td>9</td>\n",
       "      <td>0</td>\n",
       "    </tr>\n",
       "  </tbody>\n",
       "</table>\n",
       "</div>"
      ],
      "text/plain": [
       "     id                                              name  host_id  \\\n",
       "0  2539                Clean & quiet apt home by the park     2787   \n",
       "1  2595                             Skylit Midtown Castle     2845   \n",
       "2  3647               THE VILLAGE OF HARLEM....NEW YORK !     4632   \n",
       "3  3831                   Cozy Entire Floor of Brownstone     4869   \n",
       "4  5022  Entire Apt: Spacious Studio/Loft by central park     7192   \n",
       "\n",
       "     host_name neighbourhood_group neighbourhood  latitude  longitude  \\\n",
       "0         John            Brooklyn    Kensington  40.64749  -73.97237   \n",
       "1     Jennifer           Manhattan       Midtown  40.75362  -73.98377   \n",
       "2    Elisabeth           Manhattan        Harlem  40.80902  -73.94190   \n",
       "3  LisaRoxanne            Brooklyn  Clinton Hill  40.68514  -73.95976   \n",
       "4        Laura           Manhattan   East Harlem  40.79851  -73.94399   \n",
       "\n",
       "         room_type  price  minimum_nights  number_of_reviews  availability_365  \n",
       "0     Private room    149               1                  9               365  \n",
       "1  Entire home/apt    225               1                 45               355  \n",
       "2     Private room    150               3                  0               365  \n",
       "3  Entire home/apt     89               1                270               194  \n",
       "4  Entire home/apt     80              10                  9                 0  "
      ]
     },
     "execution_count": 6,
     "metadata": {},
     "output_type": "execute_result"
    }
   ],
   "source": [
    "airbnb.drop(['last_review', 'reviews_per_month', 'calculated_host_listings_count'], axis=1, inplace=True)\n",
    "airbnb.head()"
   ]
  },
  {
   "cell_type": "markdown",
   "metadata": {},
   "source": [
    "### Plotting a Map"
   ]
  },
  {
   "cell_type": "markdown",
   "metadata": {},
   "source": [
    "Let's plot a map around NYU to get a better understanding of what region it is located in."
   ]
  },
  {
   "cell_type": "code",
   "execution_count": 7,
   "metadata": {},
   "outputs": [
    {
     "name": "stdout",
     "output_type": "stream",
     "text": [
      "The geograpical coordinate of New York University are 40.72925325, -73.99625393609625.\n"
     ]
    }
   ],
   "source": [
    "# Getting coordinates of NYU\n",
    "address = 'New York University, NY'\n",
    "\n",
    "geolocator = Nominatim(user_agent=\"ny_explorer\")\n",
    "location = geolocator.geocode(address)\n",
    "nyu_latitude = location.latitude\n",
    "nyu_longitude = location.longitude\n",
    "print('The geograpical coordinate of New York University are {}, {}.'.format(nyu_latitude, nyu_longitude))"
   ]
  },
  {
   "cell_type": "code",
   "execution_count": 8,
   "metadata": {},
   "outputs": [
    {
     "data": {
      "text/html": [
       "<div style=\"width:100%;\"><div style=\"position:relative;width:100%;height:0;padding-bottom:60%;\"><span style=\"color:#565656\">Make this Notebook Trusted to load map: File -> Trust Notebook</span><iframe src=\"about:blank\" style=\"position:absolute;width:100%;height:100%;left:0;top:0;border:none !important;\" data-html=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 onload=\"this.contentDocument.open();this.contentDocument.write(atob(this.getAttribute('data-html')));this.contentDocument.close();\" allowfullscreen webkitallowfullscreen mozallowfullscreen></iframe></div></div>"
      ],
      "text/plain": [
       "<folium.folium.Map at 0x7fcc6b7bc2d0>"
      ]
     },
     "execution_count": 8,
     "metadata": {},
     "output_type": "execute_result"
    }
   ],
   "source": [
    "# create map around NYU using latitude and longitude values\n",
    "map_nyu = folium.Map(location=[nyu_latitude, nyu_longitude], zoom_start=12)\n",
    "\n",
    "# add markers to map\n",
    "\n",
    "label = folium.Popup('NYU', parse_html=True)\n",
    "folium.CircleMarker(\n",
    "    [nyu_latitude, nyu_longitude],\n",
    "    radius=7,\n",
    "    popup=label,\n",
    "    color='black',\n",
    "    fill=True,\n",
    "    fill_color='purple',\n",
    "    fill_opacity=0.7,\n",
    "    parse_html=False).add_to(map_nyu)  \n",
    "    \n",
    "map_nyu"
   ]
  },
  {
   "cell_type": "markdown",
   "metadata": {},
   "source": [
    "As we can see from the map, NYU is situated in Downtown Manhattan. We will be looking for Airbnb's close to this region, which will mainly be in Manhattan or Brooklyn."
   ]
  },
  {
   "cell_type": "code",
   "execution_count": 9,
   "metadata": {},
   "outputs": [
    {
     "data": {
      "text/html": [
       "<div>\n",
       "<style scoped>\n",
       "    .dataframe tbody tr th:only-of-type {\n",
       "        vertical-align: middle;\n",
       "    }\n",
       "\n",
       "    .dataframe tbody tr th {\n",
       "        vertical-align: top;\n",
       "    }\n",
       "\n",
       "    .dataframe thead th {\n",
       "        text-align: right;\n",
       "    }\n",
       "</style>\n",
       "<table border=\"1\" class=\"dataframe\">\n",
       "  <thead>\n",
       "    <tr style=\"text-align: right;\">\n",
       "      <th></th>\n",
       "      <th>Number of Airbnbs</th>\n",
       "    </tr>\n",
       "  </thead>\n",
       "  <tbody>\n",
       "    <tr>\n",
       "      <th>Manhattan</th>\n",
       "      <td>21661</td>\n",
       "    </tr>\n",
       "    <tr>\n",
       "      <th>Brooklyn</th>\n",
       "      <td>20104</td>\n",
       "    </tr>\n",
       "    <tr>\n",
       "      <th>Queens</th>\n",
       "      <td>5666</td>\n",
       "    </tr>\n",
       "    <tr>\n",
       "      <th>Bronx</th>\n",
       "      <td>1091</td>\n",
       "    </tr>\n",
       "    <tr>\n",
       "      <th>Staten Island</th>\n",
       "      <td>373</td>\n",
       "    </tr>\n",
       "  </tbody>\n",
       "</table>\n",
       "</div>"
      ],
      "text/plain": [
       "               Number of Airbnbs\n",
       "Manhattan                  21661\n",
       "Brooklyn                   20104\n",
       "Queens                      5666\n",
       "Bronx                       1091\n",
       "Staten Island                373"
      ]
     },
     "execution_count": 9,
     "metadata": {},
     "output_type": "execute_result"
    }
   ],
   "source": [
    "# Checking the number of airbnb's in each neighbourhood group\n",
    "airbnb.neighbourhood_group.value_counts().to_frame(name='Number of Airbnbs')"
   ]
  },
  {
   "cell_type": "markdown",
   "metadata": {},
   "source": [
    "## 2. Choosing Desirable Airbnb Features (Data Cleaning)"
   ]
  },
  {
   "cell_type": "markdown",
   "metadata": {},
   "source": [
    "### Limiting distance to NYU\n",
    "\n",
    "An important factor for students choosing where to live is how close the housing is to the university. A housing situated near the university helps save travel time to and from classes, as well as make it more convenient to visit friends or participate in clubs. We therefore limit our Airbnb listings to only those within 4 km (2.5 mi) of the university. "
   ]
  },
  {
   "cell_type": "code",
   "execution_count": 10,
   "metadata": {},
   "outputs": [
    {
     "name": "stdout",
     "output_type": "stream",
     "text": [
      "(14322, 14)\n"
     ]
    },
    {
     "data": {
      "text/html": [
       "<div>\n",
       "<style scoped>\n",
       "    .dataframe tbody tr th:only-of-type {\n",
       "        vertical-align: middle;\n",
       "    }\n",
       "\n",
       "    .dataframe tbody tr th {\n",
       "        vertical-align: top;\n",
       "    }\n",
       "\n",
       "    .dataframe thead th {\n",
       "        text-align: right;\n",
       "    }\n",
       "</style>\n",
       "<table border=\"1\" class=\"dataframe\">\n",
       "  <thead>\n",
       "    <tr style=\"text-align: right;\">\n",
       "      <th></th>\n",
       "      <th>id</th>\n",
       "      <th>name</th>\n",
       "      <th>host_id</th>\n",
       "      <th>host_name</th>\n",
       "      <th>neighbourhood_group</th>\n",
       "      <th>neighbourhood</th>\n",
       "      <th>latitude</th>\n",
       "      <th>longitude</th>\n",
       "      <th>room_type</th>\n",
       "      <th>price</th>\n",
       "      <th>minimum_nights</th>\n",
       "      <th>number_of_reviews</th>\n",
       "      <th>availability_365</th>\n",
       "      <th>dist</th>\n",
       "    </tr>\n",
       "  </thead>\n",
       "  <tbody>\n",
       "    <tr>\n",
       "      <th>0</th>\n",
       "      <td>2595</td>\n",
       "      <td>Skylit Midtown Castle</td>\n",
       "      <td>2845</td>\n",
       "      <td>Jennifer</td>\n",
       "      <td>Manhattan</td>\n",
       "      <td>Midtown</td>\n",
       "      <td>40.75362</td>\n",
       "      <td>-73.98377</td>\n",
       "      <td>Entire home/apt</td>\n",
       "      <td>225</td>\n",
       "      <td>1</td>\n",
       "      <td>45</td>\n",
       "      <td>355</td>\n",
       "      <td>2.907561</td>\n",
       "    </tr>\n",
       "    <tr>\n",
       "      <th>1</th>\n",
       "      <td>5099</td>\n",
       "      <td>Large Cozy 1 BR Apartment In Midtown East</td>\n",
       "      <td>7322</td>\n",
       "      <td>Chris</td>\n",
       "      <td>Manhattan</td>\n",
       "      <td>Murray Hill</td>\n",
       "      <td>40.74767</td>\n",
       "      <td>-73.97500</td>\n",
       "      <td>Entire home/apt</td>\n",
       "      <td>200</td>\n",
       "      <td>3</td>\n",
       "      <td>74</td>\n",
       "      <td>129</td>\n",
       "      <td>2.721247</td>\n",
       "    </tr>\n",
       "    <tr>\n",
       "      <th>2</th>\n",
       "      <td>5238</td>\n",
       "      <td>Cute &amp; Cozy Lower East Side 1 bdrm</td>\n",
       "      <td>7549</td>\n",
       "      <td>Ben</td>\n",
       "      <td>Manhattan</td>\n",
       "      <td>Chinatown</td>\n",
       "      <td>40.71344</td>\n",
       "      <td>-73.99037</td>\n",
       "      <td>Entire home/apt</td>\n",
       "      <td>150</td>\n",
       "      <td>1</td>\n",
       "      <td>160</td>\n",
       "      <td>188</td>\n",
       "      <td>1.827068</td>\n",
       "    </tr>\n",
       "    <tr>\n",
       "      <th>3</th>\n",
       "      <td>5441</td>\n",
       "      <td>Central Manhattan/near Broadway</td>\n",
       "      <td>7989</td>\n",
       "      <td>Kate</td>\n",
       "      <td>Manhattan</td>\n",
       "      <td>Hell's Kitchen</td>\n",
       "      <td>40.76076</td>\n",
       "      <td>-73.98867</td>\n",
       "      <td>Private room</td>\n",
       "      <td>85</td>\n",
       "      <td>2</td>\n",
       "      <td>188</td>\n",
       "      <td>39</td>\n",
       "      <td>3.562585</td>\n",
       "    </tr>\n",
       "    <tr>\n",
       "      <th>4</th>\n",
       "      <td>6090</td>\n",
       "      <td>West Village Nest - Superhost</td>\n",
       "      <td>11975</td>\n",
       "      <td>Alina</td>\n",
       "      <td>Manhattan</td>\n",
       "      <td>West Village</td>\n",
       "      <td>40.73530</td>\n",
       "      <td>-74.00525</td>\n",
       "      <td>Entire home/apt</td>\n",
       "      <td>120</td>\n",
       "      <td>90</td>\n",
       "      <td>27</td>\n",
       "      <td>0</td>\n",
       "      <td>1.014045</td>\n",
       "    </tr>\n",
       "  </tbody>\n",
       "</table>\n",
       "</div>"
      ],
      "text/plain": [
       "     id                                       name  host_id host_name  \\\n",
       "0  2595                      Skylit Midtown Castle     2845  Jennifer   \n",
       "1  5099  Large Cozy 1 BR Apartment In Midtown East     7322     Chris   \n",
       "2  5238         Cute & Cozy Lower East Side 1 bdrm     7549       Ben   \n",
       "3  5441            Central Manhattan/near Broadway     7989      Kate   \n",
       "4  6090              West Village Nest - Superhost    11975     Alina   \n",
       "\n",
       "  neighbourhood_group   neighbourhood  latitude  longitude        room_type  \\\n",
       "0           Manhattan         Midtown  40.75362  -73.98377  Entire home/apt   \n",
       "1           Manhattan     Murray Hill  40.74767  -73.97500  Entire home/apt   \n",
       "2           Manhattan       Chinatown  40.71344  -73.99037  Entire home/apt   \n",
       "3           Manhattan  Hell's Kitchen  40.76076  -73.98867     Private room   \n",
       "4           Manhattan    West Village  40.73530  -74.00525  Entire home/apt   \n",
       "\n",
       "   price  minimum_nights  number_of_reviews  availability_365      dist  \n",
       "0    225               1                 45               355  2.907561  \n",
       "1    200               3                 74               129  2.721247  \n",
       "2    150               1                160               188  1.827068  \n",
       "3     85               2                188                39  3.562585  \n",
       "4    120              90                 27                 0  1.014045  "
      ]
     },
     "execution_count": 10,
     "metadata": {},
     "output_type": "execute_result"
    }
   ],
   "source": [
    "# NYU coords\n",
    "nyulat=40.72925\n",
    "nyulon=-73.99625\n",
    "\n",
    "# Import trig stuff\n",
    "from math import sin, cos, sqrt, atan2,radians\n",
    "\n",
    "# Distance function between two coordinates\n",
    "def getDist(lat1,lon1,lat2,lon2):\n",
    "  R = 6373.0\n",
    "\n",
    "  lat1 = radians(lat1)\n",
    "  lon1 = radians(lon1)\n",
    "  lat2 = radians(lat2)\n",
    "  lon2 = radians(lon2)\n",
    "\n",
    "  dlon = lon2 - lon1\n",
    "  dlat = lat2 - lat1\n",
    "\n",
    "  a = sin(dlat / 2)**2 + cos(lat1) * cos(lat2) * sin(dlon / 2)**2\n",
    "  c = 2 * atan2(sqrt(a), sqrt(1 - a))\n",
    "\n",
    "  return R * c\n",
    "\n",
    "# Applying distance function to dataframe\n",
    "airbnb['dist']=list(map(lambda k: getDist(airbnb.loc[k]['latitude'],airbnb.loc[k]['longitude'],nyulat,nyulon), airbnb.index))\n",
    "\n",
    "# This will give us Airbnbs within 4 km, or 2.5 mi, of NYU\n",
    "airbnb = airbnb[airbnb['dist']<4].reset_index(drop=True)\n",
    "print(airbnb.shape)\n",
    "airbnb.head()"
   ]
  },
  {
   "cell_type": "code",
   "execution_count": 11,
   "metadata": {},
   "outputs": [
    {
     "data": {
      "text/plain": [
       "Manhattan    11560\n",
       "Brooklyn      2723\n",
       "Queens          39\n",
       "Name: neighbourhood_group, dtype: int64"
      ]
     },
     "execution_count": 11,
     "metadata": {},
     "output_type": "execute_result"
    }
   ],
   "source": [
    "airbnb.neighbourhood_group.value_counts()"
   ]
  },
  {
   "cell_type": "markdown",
   "metadata": {},
   "source": [
    "### Limiting Airbnb price"
   ]
  },
  {
   "cell_type": "markdown",
   "metadata": {},
   "source": [
    "Next, we must look for cheap enough accomodation. "
   ]
  },
  {
   "cell_type": "code",
   "execution_count": 12,
   "metadata": {},
   "outputs": [],
   "source": [
    "# Accomodation at NYU for one academic year costs around $12,000. \n",
    "# There is approx. 240 days in the year where students must live close to NYU.\n",
    "# Average NYU housing price per day = $50"
   ]
  },
  {
   "cell_type": "markdown",
   "metadata": {},
   "source": [
    "Airbnb's usually have discounts for long term stays of about 50-60%. To look for Airbnbs significantly cheaper than NYU housing, we will restrict the dataset to listings under $50."
   ]
  },
  {
   "cell_type": "code",
   "execution_count": 13,
   "metadata": {},
   "outputs": [
    {
     "data": {
      "text/plain": [
       "(181, 14)"
      ]
     },
     "execution_count": 13,
     "metadata": {},
     "output_type": "execute_result"
    }
   ],
   "source": [
    "airbnb = airbnb[airbnb['price'] < 50].reset_index(drop=True)\n",
    "airbnb.shape"
   ]
  },
  {
   "cell_type": "markdown",
   "metadata": {},
   "source": [
    "### Limiting other factors"
   ]
  },
  {
   "cell_type": "markdown",
   "metadata": {},
   "source": [
    "We now consider other desirable factors in listings. Reviews are fairly important to see how other people felt about the listing. But as there is no review rating in this dataset, looking at each review will have to be done manually by students. What we can do however is search for airbnb's with at least 1 review."
   ]
  },
  {
   "cell_type": "code",
   "execution_count": 14,
   "metadata": {},
   "outputs": [
    {
     "data": {
      "text/plain": [
       "(127, 14)"
      ]
     },
     "execution_count": 14,
     "metadata": {},
     "output_type": "execute_result"
    }
   ],
   "source": [
    "airbnb = airbnb[airbnb.number_of_reviews > 0].reset_index(drop=True)\n",
    "airbnb.shape"
   ]
  },
  {
   "cell_type": "markdown",
   "metadata": {},
   "source": [
    "The minimum nights for a listing determines its availability to NYU students, who generally will be renting them for a semester or less (around 100 days). We therefore look for airbnb's with minimum nights under 100 days."
   ]
  },
  {
   "cell_type": "code",
   "execution_count": 15,
   "metadata": {},
   "outputs": [
    {
     "data": {
      "text/plain": [
       "(124, 14)"
      ]
     },
     "execution_count": 15,
     "metadata": {},
     "output_type": "execute_result"
    }
   ],
   "source": [
    "airbnb = airbnb[airbnb.minimum_nights < 100].reset_index(drop=True)\n",
    "airbnb.shape"
   ]
  },
  {
   "cell_type": "markdown",
   "metadata": {},
   "source": [
    "Finally, some listings have been set to unavailable by setting 'availability_365', the number of days in the year that the listing can be rented, to 0. We eliminate these here:"
   ]
  },
  {
   "cell_type": "code",
   "execution_count": 16,
   "metadata": {},
   "outputs": [
    {
     "data": {
      "text/plain": [
       "(61, 14)"
      ]
     },
     "execution_count": 16,
     "metadata": {},
     "output_type": "execute_result"
    }
   ],
   "source": [
    "airbnb = airbnb[airbnb.availability_365 > 0].reset_index(drop=True)\n",
    "airbnb.shape"
   ]
  },
  {
   "cell_type": "markdown",
   "metadata": {},
   "source": [
    "We now have a small subset of around 61 Airbnb's, perfect for looking into further!"
   ]
  },
  {
   "cell_type": "code",
   "execution_count": 17,
   "metadata": {},
   "outputs": [
    {
     "data": {
      "text/html": [
       "<div>\n",
       "<style scoped>\n",
       "    .dataframe tbody tr th:only-of-type {\n",
       "        vertical-align: middle;\n",
       "    }\n",
       "\n",
       "    .dataframe tbody tr th {\n",
       "        vertical-align: top;\n",
       "    }\n",
       "\n",
       "    .dataframe thead th {\n",
       "        text-align: right;\n",
       "    }\n",
       "</style>\n",
       "<table border=\"1\" class=\"dataframe\">\n",
       "  <thead>\n",
       "    <tr style=\"text-align: right;\">\n",
       "      <th></th>\n",
       "      <th>id</th>\n",
       "      <th>name</th>\n",
       "      <th>host_id</th>\n",
       "      <th>host_name</th>\n",
       "      <th>neighbourhood_group</th>\n",
       "      <th>neighbourhood</th>\n",
       "      <th>latitude</th>\n",
       "      <th>longitude</th>\n",
       "      <th>room_type</th>\n",
       "      <th>price</th>\n",
       "      <th>minimum_nights</th>\n",
       "      <th>number_of_reviews</th>\n",
       "      <th>availability_365</th>\n",
       "      <th>dist</th>\n",
       "    </tr>\n",
       "  </thead>\n",
       "  <tbody>\n",
       "    <tr>\n",
       "      <th>0</th>\n",
       "      <td>12048</td>\n",
       "      <td>LowerEastSide apt share shortterm 1</td>\n",
       "      <td>7549</td>\n",
       "      <td>Ben</td>\n",
       "      <td>Manhattan</td>\n",
       "      <td>Lower East Side</td>\n",
       "      <td>40.71401</td>\n",
       "      <td>-73.98917</td>\n",
       "      <td>Shared room</td>\n",
       "      <td>40</td>\n",
       "      <td>1</td>\n",
       "      <td>214</td>\n",
       "      <td>188</td>\n",
       "      <td>1.797145</td>\n",
       "    </tr>\n",
       "    <tr>\n",
       "      <th>1</th>\n",
       "      <td>392948</td>\n",
       "      <td>Williamsburg near soho .support artist living</td>\n",
       "      <td>312722</td>\n",
       "      <td>Kristian &amp; Di</td>\n",
       "      <td>Brooklyn</td>\n",
       "      <td>Williamsburg</td>\n",
       "      <td>40.70994</td>\n",
       "      <td>-73.96573</td>\n",
       "      <td>Private room</td>\n",
       "      <td>45</td>\n",
       "      <td>15</td>\n",
       "      <td>15</td>\n",
       "      <td>242</td>\n",
       "      <td>3.351582</td>\n",
       "    </tr>\n",
       "    <tr>\n",
       "      <th>2</th>\n",
       "      <td>1399273</td>\n",
       "      <td>NYC - furnished room - Greenpoint</td>\n",
       "      <td>7130382</td>\n",
       "      <td>Walter</td>\n",
       "      <td>Brooklyn</td>\n",
       "      <td>Greenpoint</td>\n",
       "      <td>40.72991</td>\n",
       "      <td>-73.95208</td>\n",
       "      <td>Private room</td>\n",
       "      <td>45</td>\n",
       "      <td>4</td>\n",
       "      <td>7</td>\n",
       "      <td>88</td>\n",
       "      <td>3.723800</td>\n",
       "    </tr>\n",
       "    <tr>\n",
       "      <th>3</th>\n",
       "      <td>1578721</td>\n",
       "      <td>Huge, Sunny Greenpoint Flat</td>\n",
       "      <td>999689</td>\n",
       "      <td>Eric</td>\n",
       "      <td>Brooklyn</td>\n",
       "      <td>Greenpoint</td>\n",
       "      <td>40.72887</td>\n",
       "      <td>-73.95163</td>\n",
       "      <td>Private room</td>\n",
       "      <td>35</td>\n",
       "      <td>30</td>\n",
       "      <td>5</td>\n",
       "      <td>97</td>\n",
       "      <td>3.761273</td>\n",
       "    </tr>\n",
       "    <tr>\n",
       "      <th>4</th>\n",
       "      <td>1801036</td>\n",
       "      <td>Private room with sleeping loft</td>\n",
       "      <td>8200820</td>\n",
       "      <td>Valerie</td>\n",
       "      <td>Brooklyn</td>\n",
       "      <td>Williamsburg</td>\n",
       "      <td>40.71870</td>\n",
       "      <td>-73.95133</td>\n",
       "      <td>Private room</td>\n",
       "      <td>45</td>\n",
       "      <td>2</td>\n",
       "      <td>14</td>\n",
       "      <td>36</td>\n",
       "      <td>3.964275</td>\n",
       "    </tr>\n",
       "  </tbody>\n",
       "</table>\n",
       "</div>"
      ],
      "text/plain": [
       "        id                                           name  host_id  \\\n",
       "0    12048            LowerEastSide apt share shortterm 1     7549   \n",
       "1   392948  Williamsburg near soho .support artist living   312722   \n",
       "2  1399273             NYC - furnished room - Greenpoint   7130382   \n",
       "3  1578721                    Huge, Sunny Greenpoint Flat   999689   \n",
       "4  1801036                Private room with sleeping loft  8200820   \n",
       "\n",
       "       host_name neighbourhood_group    neighbourhood  latitude  longitude  \\\n",
       "0            Ben           Manhattan  Lower East Side  40.71401  -73.98917   \n",
       "1  Kristian & Di            Brooklyn     Williamsburg  40.70994  -73.96573   \n",
       "2         Walter            Brooklyn       Greenpoint  40.72991  -73.95208   \n",
       "3           Eric            Brooklyn       Greenpoint  40.72887  -73.95163   \n",
       "4        Valerie            Brooklyn     Williamsburg  40.71870  -73.95133   \n",
       "\n",
       "      room_type  price  minimum_nights  number_of_reviews  availability_365  \\\n",
       "0   Shared room     40               1                214               188   \n",
       "1  Private room     45              15                 15               242   \n",
       "2  Private room     45               4                  7                88   \n",
       "3  Private room     35              30                  5                97   \n",
       "4  Private room     45               2                 14                36   \n",
       "\n",
       "       dist  \n",
       "0  1.797145  \n",
       "1  3.351582  \n",
       "2  3.723800  \n",
       "3  3.761273  \n",
       "4  3.964275  "
      ]
     },
     "execution_count": 17,
     "metadata": {},
     "output_type": "execute_result"
    }
   ],
   "source": [
    "airbnb.head()"
   ]
  },
  {
   "cell_type": "markdown",
   "metadata": {},
   "source": [
    "### Plotting map of desirable Airbnbs"
   ]
  },
  {
   "cell_type": "markdown",
   "metadata": {},
   "source": [
    "Now that we have created a small subset of airbnb's with characteristics desirable to NYU students, let's plot a map to see where they all are."
   ]
  },
  {
   "cell_type": "code",
   "execution_count": 18,
   "metadata": {},
   "outputs": [
    {
     "data": {
      "text/html": [
       "<div style=\"width:100%;\"><div style=\"position:relative;width:100%;height:0;padding-bottom:60%;\"><span style=\"color:#565656\">Make this Notebook Trusted to load map: File -> Trust Notebook</span><iframe src=\"about:blank\" style=\"position:absolute;width:100%;height:100%;left:0;top:0;border:none !important;\" data-html=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 onload=\"this.contentDocument.open();this.contentDocument.write(atob(this.getAttribute('data-html')));this.contentDocument.close();\" allowfullscreen webkitallowfullscreen mozallowfullscreen></iframe></div></div>"
      ],
      "text/plain": [
       "<folium.folium.Map at 0x7fcc6b7a29d0>"
      ]
     },
     "execution_count": 18,
     "metadata": {},
     "output_type": "execute_result"
    }
   ],
   "source": [
    "# create map of airbnbs around nyu using latitude and longitude values\n",
    "finalmap_airbnb = folium.Map(location=[nyu_latitude, nyu_longitude], zoom_start=13)\n",
    "\n",
    "# add markers to map\n",
    "for lat, lng, label in zip(airbnb['latitude'], airbnb['longitude'], airbnb['name']):\n",
    "    label = folium.Popup(label, parse_html=True)\n",
    "    folium.CircleMarker(\n",
    "        [lat, lng],\n",
    "        radius=5,\n",
    "        popup=label,\n",
    "        color='blue',\n",
    "        fill=True,\n",
    "        fill_color='#3186cc',\n",
    "        fill_opacity=0.7,\n",
    "        parse_html=False).add_to(finalmap_airbnb)\n",
    "    \n",
    "# add NYU marker to map\n",
    "label = folium.Popup('NYU', parse_html=True)\n",
    "folium.CircleMarker(\n",
    "    [nyu_latitude, nyu_longitude],\n",
    "    radius=7,\n",
    "    popup=label,\n",
    "    color='black',\n",
    "    fill=True,\n",
    "    fill_color='purple',\n",
    "    fill_opacity=1,\n",
    "    parse_html=False).add_to(finalmap_airbnb)  \n",
    "    \n",
    "finalmap_airbnb"
   ]
  },
  {
   "cell_type": "markdown",
   "metadata": {},
   "source": [
    "## 3. Foursquare \n",
    "\n",
    "We have chosen desirable listings based on their Airbnb information so far, but what about the types of venues nearby them? This is where the Foursquare API comes into play in extracting these venues."
   ]
  },
  {
   "cell_type": "markdown",
   "metadata": {},
   "source": [
    "### Getting Nearby Venues "
   ]
  },
  {
   "cell_type": "code",
   "execution_count": 19,
   "metadata": {
    "collapsed": true,
    "jupyter": {
     "outputs_hidden": true,
     "source_hidden": true
    }
   },
   "outputs": [
    {
     "name": "stdout",
     "output_type": "stream",
     "text": [
      "Your credentails:\n",
      "CLIENT_ID: K4142FRKXZ2GXOPNTKWBJE4FBZBVGKUKZGBZ5SNZJVWZX0CC\n",
      "CLIENT_SECRET:QD0IBQS3GRSABCL4SFV24CMKPROKZICLC5I23TU3VKJPRQGG\n"
     ]
    }
   ],
   "source": [
    "CLIENT_ID = 'K4142FRKXZ2GXOPNTKWBJE4FBZBVGKUKZGBZ5SNZJVWZX0CC' # your Foursquare ID\n",
    "CLIENT_SECRET = 'QD0IBQS3GRSABCL4SFV24CMKPROKZICLC5I23TU3VKJPRQGG' # your Foursquare Secret\n",
    "VERSION = '20180605' # Foursquare API version\n",
    "\n",
    "print('Your credentails:')\n",
    "print('CLIENT_ID: ' + CLIENT_ID)\n",
    "print('CLIENT_SECRET:' + CLIENT_SECRET)"
   ]
  },
  {
   "cell_type": "markdown",
   "metadata": {},
   "source": [
    "After we enter our Foursquare Client ID and Client Secret, we can define a get request for nearby venues that iterate over all of the listings. We limit the radius to 500m around the listing, and the number of venues to 20 in order to reduce computation time."
   ]
  },
  {
   "cell_type": "code",
   "execution_count": 20,
   "metadata": {},
   "outputs": [],
   "source": [
    "def getNearbyVenues(names, latitudes, longitudes, radius=500):\n",
    "    \n",
    "    venues_list=[]\n",
    "    for name, lat, lng in zip(names, latitudes, longitudes):\n",
    "        print(name)\n",
    "            \n",
    "        # create the API request URL\n",
    "        url = 'https://api.foursquare.com/v2/venues/explore?&client_id={}&client_secret={}&v={}&ll={},{}&radius={}&limit={}'.format(\n",
    "            CLIENT_ID, \n",
    "            CLIENT_SECRET, \n",
    "            VERSION, \n",
    "            lat, \n",
    "            lng, \n",
    "            radius, \n",
    "            20)\n",
    "            \n",
    "        # make the GET request\n",
    "        results = requests.get(url).json()[\"response\"]['groups'][0]['items']\n",
    "        \n",
    "        # return only relevant information for each nearby venue\n",
    "        venues_list.append([(\n",
    "            name, \n",
    "            lat, \n",
    "            lng, \n",
    "            v['venue']['name'], \n",
    "            v['venue']['location']['lat'], \n",
    "            v['venue']['location']['lng'],  \n",
    "            v['venue']['categories'][0]['name']) for v in results])\n",
    "\n",
    "    nearby_venues = pd.DataFrame([item for venue_list in venues_list for item in venue_list])\n",
    "    nearby_venues.columns = ['name', \n",
    "                  'latitude', \n",
    "                  'longitude', \n",
    "                  'Venue', \n",
    "                  'Venue Latitude', \n",
    "                  'Venue Longitude', \n",
    "                  'Venue Category']\n",
    "    \n",
    "    return(nearby_venues)"
   ]
  },
  {
   "cell_type": "markdown",
   "metadata": {},
   "source": [
    "We execute the function:"
   ]
  },
  {
   "cell_type": "code",
   "execution_count": 21,
   "metadata": {},
   "outputs": [
    {
     "name": "stdout",
     "output_type": "stream",
     "text": [
      "LowerEastSide apt share shortterm 1\n",
      "Williamsburg near soho .support artist living\n",
      "NYC - furnished room - Greenpoint \n",
      "Huge, Sunny Greenpoint Flat\n",
      "Private room with sleeping loft\n",
      "Coffee,Tea&Milk Astor Place Lodging\n",
      "LowerEastSide apt share shortterm 3\n",
      "Williamsburg private clean cozy RM\n",
      "Lovely Large Room with Private Bathroom\n",
      "Shared male Room on Manhattan. Amazing view! II\n",
      "Comfy room in a loft in  Greenpoint/Williamsburg!\n",
      "Shared male room on Manhattan with crazy view! I\n",
      "Private Room in Greenpoint, Brooklyn\n",
      "The best deal, really close to Times Square\n",
      "Williamsburg Couch on a Budget\n",
      "RG - Budget Friendly room in the Greenpoint area!\n",
      "Ladies Only: Spacious Shared Apt\n",
      "Amazing Loft in the heart of Williamsburg\n",
      "Cozy East Village Room in huge apartment\n",
      "Lovely & bright Brooklyn room close to train\n",
      "Location Location - Cozy Room In Time Square\n",
      "Private Room- Greenpoint, Willamsburg local\n",
      "Manhattan Phenomenal Deal! BEST Chelsea Room\n",
      "Single Bed A in Sharing Room near Grand Central\n",
      "Single Bed B in Sharing room near Grand Central\n",
      "Cozy, private bedroom in Greenpoint/Williamsburg\n",
      "Fresh and cozy male room on Manhattan III\n",
      "New!! Cozy full equipped room in Times Square\n",
      "Spacious 2-bedroom Apt in Heart of Greenpoint\n",
      "Private Bedroom in West Village/Chelsea\n",
      "Amazing cozy and warm male room on Manhattan IV\n",
      "Cool and Cozy living room, confortable couch .\n",
      "Luxurious Midtown Manhattan Apartment -Ladies Only\n",
      "FULL VIEW NYC Room in Williamsburg & Giant Terrace\n",
      "Private Bed in Queer Co-Living Space for Men\n",
      "Cozy feel at home studio\n",
      "Nice, cozy and fresh shared male room on Manhattan\n",
      "BEST DEAL in NYC - Cute and Cozy Room Times Square\n",
      "BEST LOCATION - Lovely room by Times Square!!!\n",
      "Cozy private room near Times Square 53E1\n",
      "Conveniently located room near Times Sq. 43D1\n",
      "NEW Perfect shared male room right on Manhattan IV\n",
      "SofaBed-Hell's Kitchen, Heart of Manhattan\n",
      "KING Room w Private Entrance - Times Square\n",
      "Nights in Midtown Manhattan-Ladies Only\n",
      "New York Moments (Ladies Only)\n",
      "Manhattan Sights & Sound (Ladies Only)\n",
      "Cozy room in West Village\n",
      "Shared male room on Manhattan next to river I\n",
      "Shared male room of your dreams on Manhattan III\n",
      "Unbelievable male room& best price on Manhattan II\n",
      "Prime private room,  on bedford ave in a 2Bd apt\n",
      "Updated Private Bedroom in Co-Living Space 2L-3\n",
      "Shared male Room on Manhattan! Amazing view! II\n",
      "Ladies Shared Cozy Space\n",
      "Sleep & The City (Women Shared Apartment)\n",
      "Ladies Only NYC\n",
      "Ladies Only Shared Room\n",
      "Angela's Sweet Suite (Shared-Females Only)\n",
      "Central Manhattan Shared Ladies Apartment\n",
      "Wonderful Williamsburg\n"
     ]
    }
   ],
   "source": [
    "airbnb_venues = getNearbyVenues(names=airbnb['name'],\n",
    "                                   latitudes=airbnb['latitude'],\n",
    "                                   longitudes=airbnb['longitude']\n",
    "                                  )"
   ]
  },
  {
   "cell_type": "markdown",
   "metadata": {},
   "source": [
    "And we save it to pickle in case we need to use it again."
   ]
  },
  {
   "cell_type": "code",
   "execution_count": 22,
   "metadata": {},
   "outputs": [],
   "source": [
    "airbnb_venues.to_pickle('airbnb_venues')"
   ]
  },
  {
   "cell_type": "code",
   "execution_count": 23,
   "metadata": {},
   "outputs": [
    {
     "name": "stdout",
     "output_type": "stream",
     "text": [
      "(1183, 7)\n"
     ]
    },
    {
     "data": {
      "text/html": [
       "<div>\n",
       "<style scoped>\n",
       "    .dataframe tbody tr th:only-of-type {\n",
       "        vertical-align: middle;\n",
       "    }\n",
       "\n",
       "    .dataframe tbody tr th {\n",
       "        vertical-align: top;\n",
       "    }\n",
       "\n",
       "    .dataframe thead th {\n",
       "        text-align: right;\n",
       "    }\n",
       "</style>\n",
       "<table border=\"1\" class=\"dataframe\">\n",
       "  <thead>\n",
       "    <tr style=\"text-align: right;\">\n",
       "      <th></th>\n",
       "      <th>name</th>\n",
       "      <th>latitude</th>\n",
       "      <th>longitude</th>\n",
       "      <th>Venue</th>\n",
       "      <th>Venue Latitude</th>\n",
       "      <th>Venue Longitude</th>\n",
       "      <th>Venue Category</th>\n",
       "    </tr>\n",
       "  </thead>\n",
       "  <tbody>\n",
       "    <tr>\n",
       "      <th>0</th>\n",
       "      <td>LowerEastSide apt share shortterm 1</td>\n",
       "      <td>40.71401</td>\n",
       "      <td>-73.98917</td>\n",
       "      <td>Metrograph</td>\n",
       "      <td>40.714999</td>\n",
       "      <td>-73.991035</td>\n",
       "      <td>Indie Movie Theater</td>\n",
       "    </tr>\n",
       "    <tr>\n",
       "      <th>1</th>\n",
       "      <td>LowerEastSide apt share shortterm 1</td>\n",
       "      <td>40.71401</td>\n",
       "      <td>-73.98917</td>\n",
       "      <td>Hawa Smoothies</td>\n",
       "      <td>40.714200</td>\n",
       "      <td>-73.989390</td>\n",
       "      <td>Juice Bar</td>\n",
       "    </tr>\n",
       "    <tr>\n",
       "      <th>2</th>\n",
       "      <td>LowerEastSide apt share shortterm 1</td>\n",
       "      <td>40.71401</td>\n",
       "      <td>-73.98917</td>\n",
       "      <td>Little Canal</td>\n",
       "      <td>40.714317</td>\n",
       "      <td>-73.990361</td>\n",
       "      <td>Coffee Shop</td>\n",
       "    </tr>\n",
       "    <tr>\n",
       "      <th>3</th>\n",
       "      <td>LowerEastSide apt share shortterm 1</td>\n",
       "      <td>40.71401</td>\n",
       "      <td>-73.98917</td>\n",
       "      <td>Ice &amp; Vice</td>\n",
       "      <td>40.714375</td>\n",
       "      <td>-73.986956</td>\n",
       "      <td>Ice Cream Shop</td>\n",
       "    </tr>\n",
       "    <tr>\n",
       "      <th>4</th>\n",
       "      <td>LowerEastSide apt share shortterm 1</td>\n",
       "      <td>40.71401</td>\n",
       "      <td>-73.98917</td>\n",
       "      <td>Forgtmenot</td>\n",
       "      <td>40.714459</td>\n",
       "      <td>-73.991546</td>\n",
       "      <td>New American Restaurant</td>\n",
       "    </tr>\n",
       "  </tbody>\n",
       "</table>\n",
       "</div>"
      ],
      "text/plain": [
       "                                  name  latitude  longitude           Venue  \\\n",
       "0  LowerEastSide apt share shortterm 1  40.71401  -73.98917      Metrograph   \n",
       "1  LowerEastSide apt share shortterm 1  40.71401  -73.98917  Hawa Smoothies   \n",
       "2  LowerEastSide apt share shortterm 1  40.71401  -73.98917    Little Canal   \n",
       "3  LowerEastSide apt share shortterm 1  40.71401  -73.98917      Ice & Vice   \n",
       "4  LowerEastSide apt share shortterm 1  40.71401  -73.98917      Forgtmenot   \n",
       "\n",
       "   Venue Latitude  Venue Longitude           Venue Category  \n",
       "0       40.714999       -73.991035      Indie Movie Theater  \n",
       "1       40.714200       -73.989390                Juice Bar  \n",
       "2       40.714317       -73.990361              Coffee Shop  \n",
       "3       40.714375       -73.986956           Ice Cream Shop  \n",
       "4       40.714459       -73.991546  New American Restaurant  "
      ]
     },
     "execution_count": 23,
     "metadata": {},
     "output_type": "execute_result"
    }
   ],
   "source": [
    "print(airbnb_venues.shape)\n",
    "airbnb_venues.head()"
   ]
  },
  {
   "cell_type": "markdown",
   "metadata": {},
   "source": [
    "### Manipulating Venue Data\n",
    "\n",
    "In order to derive insights from the data on nearby venues, we will rank the top 5 most common venues for each listing. We start by doing one hot encoding on the venues:"
   ]
  },
  {
   "cell_type": "code",
   "execution_count": 24,
   "metadata": {},
   "outputs": [
    {
     "name": "stdout",
     "output_type": "stream",
     "text": [
      "(1183, 173)\n"
     ]
    },
    {
     "data": {
      "text/html": [
       "<div>\n",
       "<style scoped>\n",
       "    .dataframe tbody tr th:only-of-type {\n",
       "        vertical-align: middle;\n",
       "    }\n",
       "\n",
       "    .dataframe tbody tr th {\n",
       "        vertical-align: top;\n",
       "    }\n",
       "\n",
       "    .dataframe thead th {\n",
       "        text-align: right;\n",
       "    }\n",
       "</style>\n",
       "<table border=\"1\" class=\"dataframe\">\n",
       "  <thead>\n",
       "    <tr style=\"text-align: right;\">\n",
       "      <th></th>\n",
       "      <th>name</th>\n",
       "      <th>Accessories Store</th>\n",
       "      <th>American Restaurant</th>\n",
       "      <th>Arepa Restaurant</th>\n",
       "      <th>Art Gallery</th>\n",
       "      <th>Art Museum</th>\n",
       "      <th>Asian Restaurant</th>\n",
       "      <th>Australian Restaurant</th>\n",
       "      <th>BBQ Joint</th>\n",
       "      <th>Bagel Shop</th>\n",
       "      <th>...</th>\n",
       "      <th>Udon Restaurant</th>\n",
       "      <th>Vegetarian / Vegan Restaurant</th>\n",
       "      <th>Vietnamese Restaurant</th>\n",
       "      <th>Waterfront</th>\n",
       "      <th>Whisky Bar</th>\n",
       "      <th>Wine Bar</th>\n",
       "      <th>Wine Shop</th>\n",
       "      <th>Winery</th>\n",
       "      <th>Wings Joint</th>\n",
       "      <th>Yoga Studio</th>\n",
       "    </tr>\n",
       "  </thead>\n",
       "  <tbody>\n",
       "    <tr>\n",
       "      <th>0</th>\n",
       "      <td>LowerEastSide apt share shortterm 1</td>\n",
       "      <td>0</td>\n",
       "      <td>0</td>\n",
       "      <td>0</td>\n",
       "      <td>0</td>\n",
       "      <td>0</td>\n",
       "      <td>0</td>\n",
       "      <td>0</td>\n",
       "      <td>0</td>\n",
       "      <td>0</td>\n",
       "      <td>...</td>\n",
       "      <td>0</td>\n",
       "      <td>0</td>\n",
       "      <td>0</td>\n",
       "      <td>0</td>\n",
       "      <td>0</td>\n",
       "      <td>0</td>\n",
       "      <td>0</td>\n",
       "      <td>0</td>\n",
       "      <td>0</td>\n",
       "      <td>0</td>\n",
       "    </tr>\n",
       "    <tr>\n",
       "      <th>1</th>\n",
       "      <td>LowerEastSide apt share shortterm 1</td>\n",
       "      <td>0</td>\n",
       "      <td>0</td>\n",
       "      <td>0</td>\n",
       "      <td>0</td>\n",
       "      <td>0</td>\n",
       "      <td>0</td>\n",
       "      <td>0</td>\n",
       "      <td>0</td>\n",
       "      <td>0</td>\n",
       "      <td>...</td>\n",
       "      <td>0</td>\n",
       "      <td>0</td>\n",
       "      <td>0</td>\n",
       "      <td>0</td>\n",
       "      <td>0</td>\n",
       "      <td>0</td>\n",
       "      <td>0</td>\n",
       "      <td>0</td>\n",
       "      <td>0</td>\n",
       "      <td>0</td>\n",
       "    </tr>\n",
       "    <tr>\n",
       "      <th>2</th>\n",
       "      <td>LowerEastSide apt share shortterm 1</td>\n",
       "      <td>0</td>\n",
       "      <td>0</td>\n",
       "      <td>0</td>\n",
       "      <td>0</td>\n",
       "      <td>0</td>\n",
       "      <td>0</td>\n",
       "      <td>0</td>\n",
       "      <td>0</td>\n",
       "      <td>0</td>\n",
       "      <td>...</td>\n",
       "      <td>0</td>\n",
       "      <td>0</td>\n",
       "      <td>0</td>\n",
       "      <td>0</td>\n",
       "      <td>0</td>\n",
       "      <td>0</td>\n",
       "      <td>0</td>\n",
       "      <td>0</td>\n",
       "      <td>0</td>\n",
       "      <td>0</td>\n",
       "    </tr>\n",
       "    <tr>\n",
       "      <th>3</th>\n",
       "      <td>LowerEastSide apt share shortterm 1</td>\n",
       "      <td>0</td>\n",
       "      <td>0</td>\n",
       "      <td>0</td>\n",
       "      <td>0</td>\n",
       "      <td>0</td>\n",
       "      <td>0</td>\n",
       "      <td>0</td>\n",
       "      <td>0</td>\n",
       "      <td>0</td>\n",
       "      <td>...</td>\n",
       "      <td>0</td>\n",
       "      <td>0</td>\n",
       "      <td>0</td>\n",
       "      <td>0</td>\n",
       "      <td>0</td>\n",
       "      <td>0</td>\n",
       "      <td>0</td>\n",
       "      <td>0</td>\n",
       "      <td>0</td>\n",
       "      <td>0</td>\n",
       "    </tr>\n",
       "    <tr>\n",
       "      <th>4</th>\n",
       "      <td>LowerEastSide apt share shortterm 1</td>\n",
       "      <td>0</td>\n",
       "      <td>0</td>\n",
       "      <td>0</td>\n",
       "      <td>0</td>\n",
       "      <td>0</td>\n",
       "      <td>0</td>\n",
       "      <td>0</td>\n",
       "      <td>0</td>\n",
       "      <td>0</td>\n",
       "      <td>...</td>\n",
       "      <td>0</td>\n",
       "      <td>0</td>\n",
       "      <td>0</td>\n",
       "      <td>0</td>\n",
       "      <td>0</td>\n",
       "      <td>0</td>\n",
       "      <td>0</td>\n",
       "      <td>0</td>\n",
       "      <td>0</td>\n",
       "      <td>0</td>\n",
       "    </tr>\n",
       "  </tbody>\n",
       "</table>\n",
       "<p>5 rows × 173 columns</p>\n",
       "</div>"
      ],
      "text/plain": [
       "                                  name  Accessories Store  \\\n",
       "0  LowerEastSide apt share shortterm 1                  0   \n",
       "1  LowerEastSide apt share shortterm 1                  0   \n",
       "2  LowerEastSide apt share shortterm 1                  0   \n",
       "3  LowerEastSide apt share shortterm 1                  0   \n",
       "4  LowerEastSide apt share shortterm 1                  0   \n",
       "\n",
       "   American Restaurant  Arepa Restaurant  Art Gallery  Art Museum  \\\n",
       "0                    0                 0            0           0   \n",
       "1                    0                 0            0           0   \n",
       "2                    0                 0            0           0   \n",
       "3                    0                 0            0           0   \n",
       "4                    0                 0            0           0   \n",
       "\n",
       "   Asian Restaurant  Australian Restaurant  BBQ Joint  Bagel Shop  ...  \\\n",
       "0                 0                      0          0           0  ...   \n",
       "1                 0                      0          0           0  ...   \n",
       "2                 0                      0          0           0  ...   \n",
       "3                 0                      0          0           0  ...   \n",
       "4                 0                      0          0           0  ...   \n",
       "\n",
       "   Udon Restaurant  Vegetarian / Vegan Restaurant  Vietnamese Restaurant  \\\n",
       "0                0                              0                      0   \n",
       "1                0                              0                      0   \n",
       "2                0                              0                      0   \n",
       "3                0                              0                      0   \n",
       "4                0                              0                      0   \n",
       "\n",
       "   Waterfront  Whisky Bar  Wine Bar  Wine Shop  Winery  Wings Joint  \\\n",
       "0           0           0         0          0       0            0   \n",
       "1           0           0         0          0       0            0   \n",
       "2           0           0         0          0       0            0   \n",
       "3           0           0         0          0       0            0   \n",
       "4           0           0         0          0       0            0   \n",
       "\n",
       "   Yoga Studio  \n",
       "0            0  \n",
       "1            0  \n",
       "2            0  \n",
       "3            0  \n",
       "4            0  \n",
       "\n",
       "[5 rows x 173 columns]"
      ]
     },
     "execution_count": 24,
     "metadata": {},
     "output_type": "execute_result"
    }
   ],
   "source": [
    "# one hot encoding\n",
    "airbnb_onehot = pd.get_dummies(airbnb_venues[['Venue Category']], prefix=\"\", prefix_sep=\"\")\n",
    "\n",
    "# add name column back to dataframe\n",
    "airbnb_onehot['name'] = airbnb_venues['name'] \n",
    "\n",
    "# move name column to the first column\n",
    "fixed_columns = [airbnb_onehot.columns[-1]] + list(airbnb_onehot.columns[:-1])\n",
    "airbnb_onehot = airbnb_onehot[fixed_columns]\n",
    "\n",
    "print(airbnb_onehot.shape)\n",
    "airbnb_onehot.head()"
   ]
  },
  {
   "cell_type": "markdown",
   "metadata": {},
   "source": [
    "Next, we group by the listing name:"
   ]
  },
  {
   "cell_type": "code",
   "execution_count": 25,
   "metadata": {},
   "outputs": [
    {
     "name": "stdout",
     "output_type": "stream",
     "text": [
      "(61, 173)\n"
     ]
    },
    {
     "data": {
      "text/html": [
       "<div>\n",
       "<style scoped>\n",
       "    .dataframe tbody tr th:only-of-type {\n",
       "        vertical-align: middle;\n",
       "    }\n",
       "\n",
       "    .dataframe tbody tr th {\n",
       "        vertical-align: top;\n",
       "    }\n",
       "\n",
       "    .dataframe thead th {\n",
       "        text-align: right;\n",
       "    }\n",
       "</style>\n",
       "<table border=\"1\" class=\"dataframe\">\n",
       "  <thead>\n",
       "    <tr style=\"text-align: right;\">\n",
       "      <th></th>\n",
       "      <th>name</th>\n",
       "      <th>Accessories Store</th>\n",
       "      <th>American Restaurant</th>\n",
       "      <th>Arepa Restaurant</th>\n",
       "      <th>Art Gallery</th>\n",
       "      <th>Art Museum</th>\n",
       "      <th>Asian Restaurant</th>\n",
       "      <th>Australian Restaurant</th>\n",
       "      <th>BBQ Joint</th>\n",
       "      <th>Bagel Shop</th>\n",
       "      <th>...</th>\n",
       "      <th>Udon Restaurant</th>\n",
       "      <th>Vegetarian / Vegan Restaurant</th>\n",
       "      <th>Vietnamese Restaurant</th>\n",
       "      <th>Waterfront</th>\n",
       "      <th>Whisky Bar</th>\n",
       "      <th>Wine Bar</th>\n",
       "      <th>Wine Shop</th>\n",
       "      <th>Winery</th>\n",
       "      <th>Wings Joint</th>\n",
       "      <th>Yoga Studio</th>\n",
       "    </tr>\n",
       "  </thead>\n",
       "  <tbody>\n",
       "    <tr>\n",
       "      <th>0</th>\n",
       "      <td>Amazing Loft in the heart of Williamsburg</td>\n",
       "      <td>0.0</td>\n",
       "      <td>0.05</td>\n",
       "      <td>0.0</td>\n",
       "      <td>0.0</td>\n",
       "      <td>0.0</td>\n",
       "      <td>0.0</td>\n",
       "      <td>0.00</td>\n",
       "      <td>0.0</td>\n",
       "      <td>0.0</td>\n",
       "      <td>...</td>\n",
       "      <td>0.0</td>\n",
       "      <td>0.00</td>\n",
       "      <td>0.0</td>\n",
       "      <td>0.0</td>\n",
       "      <td>0.0</td>\n",
       "      <td>0.00</td>\n",
       "      <td>0.0</td>\n",
       "      <td>0.0</td>\n",
       "      <td>0.00</td>\n",
       "      <td>0.05</td>\n",
       "    </tr>\n",
       "    <tr>\n",
       "      <th>1</th>\n",
       "      <td>Amazing cozy and warm male room on Manhattan IV</td>\n",
       "      <td>0.0</td>\n",
       "      <td>0.00</td>\n",
       "      <td>0.0</td>\n",
       "      <td>0.0</td>\n",
       "      <td>0.0</td>\n",
       "      <td>0.0</td>\n",
       "      <td>0.00</td>\n",
       "      <td>0.0</td>\n",
       "      <td>0.0</td>\n",
       "      <td>...</td>\n",
       "      <td>0.0</td>\n",
       "      <td>0.05</td>\n",
       "      <td>0.0</td>\n",
       "      <td>0.0</td>\n",
       "      <td>0.0</td>\n",
       "      <td>0.00</td>\n",
       "      <td>0.0</td>\n",
       "      <td>0.0</td>\n",
       "      <td>0.00</td>\n",
       "      <td>0.00</td>\n",
       "    </tr>\n",
       "    <tr>\n",
       "      <th>2</th>\n",
       "      <td>Angela's Sweet Suite (Shared-Females Only)</td>\n",
       "      <td>0.0</td>\n",
       "      <td>0.05</td>\n",
       "      <td>0.0</td>\n",
       "      <td>0.0</td>\n",
       "      <td>0.0</td>\n",
       "      <td>0.0</td>\n",
       "      <td>0.05</td>\n",
       "      <td>0.0</td>\n",
       "      <td>0.0</td>\n",
       "      <td>...</td>\n",
       "      <td>0.0</td>\n",
       "      <td>0.00</td>\n",
       "      <td>0.0</td>\n",
       "      <td>0.0</td>\n",
       "      <td>0.0</td>\n",
       "      <td>0.05</td>\n",
       "      <td>0.0</td>\n",
       "      <td>0.0</td>\n",
       "      <td>0.05</td>\n",
       "      <td>0.00</td>\n",
       "    </tr>\n",
       "    <tr>\n",
       "      <th>3</th>\n",
       "      <td>BEST DEAL in NYC - Cute and Cozy Room Times Sq...</td>\n",
       "      <td>0.0</td>\n",
       "      <td>0.05</td>\n",
       "      <td>0.0</td>\n",
       "      <td>0.0</td>\n",
       "      <td>0.0</td>\n",
       "      <td>0.0</td>\n",
       "      <td>0.00</td>\n",
       "      <td>0.0</td>\n",
       "      <td>0.0</td>\n",
       "      <td>...</td>\n",
       "      <td>0.0</td>\n",
       "      <td>0.00</td>\n",
       "      <td>0.0</td>\n",
       "      <td>0.0</td>\n",
       "      <td>0.0</td>\n",
       "      <td>0.00</td>\n",
       "      <td>0.0</td>\n",
       "      <td>0.0</td>\n",
       "      <td>0.00</td>\n",
       "      <td>0.00</td>\n",
       "    </tr>\n",
       "    <tr>\n",
       "      <th>4</th>\n",
       "      <td>BEST LOCATION - Lovely room by Times Square!!!</td>\n",
       "      <td>0.0</td>\n",
       "      <td>0.00</td>\n",
       "      <td>0.0</td>\n",
       "      <td>0.0</td>\n",
       "      <td>0.0</td>\n",
       "      <td>0.0</td>\n",
       "      <td>0.00</td>\n",
       "      <td>0.0</td>\n",
       "      <td>0.0</td>\n",
       "      <td>...</td>\n",
       "      <td>0.0</td>\n",
       "      <td>0.00</td>\n",
       "      <td>0.0</td>\n",
       "      <td>0.0</td>\n",
       "      <td>0.0</td>\n",
       "      <td>0.05</td>\n",
       "      <td>0.0</td>\n",
       "      <td>0.0</td>\n",
       "      <td>0.00</td>\n",
       "      <td>0.00</td>\n",
       "    </tr>\n",
       "  </tbody>\n",
       "</table>\n",
       "<p>5 rows × 173 columns</p>\n",
       "</div>"
      ],
      "text/plain": [
       "                                                name  Accessories Store  \\\n",
       "0          Amazing Loft in the heart of Williamsburg                0.0   \n",
       "1    Amazing cozy and warm male room on Manhattan IV                0.0   \n",
       "2         Angela's Sweet Suite (Shared-Females Only)                0.0   \n",
       "3  BEST DEAL in NYC - Cute and Cozy Room Times Sq...                0.0   \n",
       "4     BEST LOCATION - Lovely room by Times Square!!!                0.0   \n",
       "\n",
       "   American Restaurant  Arepa Restaurant  Art Gallery  Art Museum  \\\n",
       "0                 0.05               0.0          0.0         0.0   \n",
       "1                 0.00               0.0          0.0         0.0   \n",
       "2                 0.05               0.0          0.0         0.0   \n",
       "3                 0.05               0.0          0.0         0.0   \n",
       "4                 0.00               0.0          0.0         0.0   \n",
       "\n",
       "   Asian Restaurant  Australian Restaurant  BBQ Joint  Bagel Shop  ...  \\\n",
       "0               0.0                   0.00        0.0         0.0  ...   \n",
       "1               0.0                   0.00        0.0         0.0  ...   \n",
       "2               0.0                   0.05        0.0         0.0  ...   \n",
       "3               0.0                   0.00        0.0         0.0  ...   \n",
       "4               0.0                   0.00        0.0         0.0  ...   \n",
       "\n",
       "   Udon Restaurant  Vegetarian / Vegan Restaurant  Vietnamese Restaurant  \\\n",
       "0              0.0                           0.00                    0.0   \n",
       "1              0.0                           0.05                    0.0   \n",
       "2              0.0                           0.00                    0.0   \n",
       "3              0.0                           0.00                    0.0   \n",
       "4              0.0                           0.00                    0.0   \n",
       "\n",
       "   Waterfront  Whisky Bar  Wine Bar  Wine Shop  Winery  Wings Joint  \\\n",
       "0         0.0         0.0      0.00        0.0     0.0         0.00   \n",
       "1         0.0         0.0      0.00        0.0     0.0         0.00   \n",
       "2         0.0         0.0      0.05        0.0     0.0         0.05   \n",
       "3         0.0         0.0      0.00        0.0     0.0         0.00   \n",
       "4         0.0         0.0      0.05        0.0     0.0         0.00   \n",
       "\n",
       "   Yoga Studio  \n",
       "0         0.05  \n",
       "1         0.00  \n",
       "2         0.00  \n",
       "3         0.00  \n",
       "4         0.00  \n",
       "\n",
       "[5 rows x 173 columns]"
      ]
     },
     "execution_count": 25,
     "metadata": {},
     "output_type": "execute_result"
    }
   ],
   "source": [
    "airbnb_grouped = airbnb_onehot.groupby('name').mean().reset_index()\n",
    "print(airbnb_grouped.shape)\n",
    "airbnb_grouped.head()"
   ]
  },
  {
   "cell_type": "markdown",
   "metadata": {},
   "source": [
    "Let's define a function to get us the 5 most common venues for each listing, and finally append them to the dataset airbnb_venues_sorted."
   ]
  },
  {
   "cell_type": "code",
   "execution_count": 26,
   "metadata": {},
   "outputs": [],
   "source": [
    "def return_most_common_venues(row, num_top_venues):\n",
    "    row_categories = row.iloc[1:]\n",
    "    row_categories_sorted = row_categories.sort_values(ascending=False)\n",
    "    \n",
    "    return row_categories_sorted.index.values[0:num_top_venues]"
   ]
  },
  {
   "cell_type": "code",
   "execution_count": 27,
   "metadata": {},
   "outputs": [
    {
     "data": {
      "text/html": [
       "<div>\n",
       "<style scoped>\n",
       "    .dataframe tbody tr th:only-of-type {\n",
       "        vertical-align: middle;\n",
       "    }\n",
       "\n",
       "    .dataframe tbody tr th {\n",
       "        vertical-align: top;\n",
       "    }\n",
       "\n",
       "    .dataframe thead th {\n",
       "        text-align: right;\n",
       "    }\n",
       "</style>\n",
       "<table border=\"1\" class=\"dataframe\">\n",
       "  <thead>\n",
       "    <tr style=\"text-align: right;\">\n",
       "      <th></th>\n",
       "      <th>name</th>\n",
       "      <th>1st Most Common Venue</th>\n",
       "      <th>2nd Most Common Venue</th>\n",
       "      <th>3rd Most Common Venue</th>\n",
       "      <th>4th Most Common Venue</th>\n",
       "      <th>5th Most Common Venue</th>\n",
       "    </tr>\n",
       "  </thead>\n",
       "  <tbody>\n",
       "    <tr>\n",
       "      <th>0</th>\n",
       "      <td>Amazing Loft in the heart of Williamsburg</td>\n",
       "      <td>Café</td>\n",
       "      <td>Yoga Studio</td>\n",
       "      <td>Bike Shop</td>\n",
       "      <td>Cycle Studio</td>\n",
       "      <td>Diner</td>\n",
       "    </tr>\n",
       "    <tr>\n",
       "      <th>1</th>\n",
       "      <td>Amazing cozy and warm male room on Manhattan IV</td>\n",
       "      <td>Chinese Restaurant</td>\n",
       "      <td>Coffee Shop</td>\n",
       "      <td>Mexican Restaurant</td>\n",
       "      <td>Cocktail Bar</td>\n",
       "      <td>Tea Room</td>\n",
       "    </tr>\n",
       "    <tr>\n",
       "      <th>2</th>\n",
       "      <td>Angela's Sweet Suite (Shared-Females Only)</td>\n",
       "      <td>Bar</td>\n",
       "      <td>Indian Restaurant</td>\n",
       "      <td>Ice Cream Shop</td>\n",
       "      <td>Grocery Store</td>\n",
       "      <td>Coffee Shop</td>\n",
       "    </tr>\n",
       "    <tr>\n",
       "      <th>3</th>\n",
       "      <td>BEST DEAL in NYC - Cute and Cozy Room Times Sq...</td>\n",
       "      <td>Theater</td>\n",
       "      <td>Burger Joint</td>\n",
       "      <td>Japanese Restaurant</td>\n",
       "      <td>Sandwich Place</td>\n",
       "      <td>Sushi Restaurant</td>\n",
       "    </tr>\n",
       "    <tr>\n",
       "      <th>4</th>\n",
       "      <td>BEST LOCATION - Lovely room by Times Square!!!</td>\n",
       "      <td>Sandwich Place</td>\n",
       "      <td>Theater</td>\n",
       "      <td>Burger Joint</td>\n",
       "      <td>Indie Theater</td>\n",
       "      <td>Japanese Restaurant</td>\n",
       "    </tr>\n",
       "  </tbody>\n",
       "</table>\n",
       "</div>"
      ],
      "text/plain": [
       "                                                name 1st Most Common Venue  \\\n",
       "0          Amazing Loft in the heart of Williamsburg                  Café   \n",
       "1    Amazing cozy and warm male room on Manhattan IV    Chinese Restaurant   \n",
       "2         Angela's Sweet Suite (Shared-Females Only)                   Bar   \n",
       "3  BEST DEAL in NYC - Cute and Cozy Room Times Sq...               Theater   \n",
       "4     BEST LOCATION - Lovely room by Times Square!!!        Sandwich Place   \n",
       "\n",
       "  2nd Most Common Venue 3rd Most Common Venue 4th Most Common Venue  \\\n",
       "0           Yoga Studio             Bike Shop          Cycle Studio   \n",
       "1           Coffee Shop    Mexican Restaurant          Cocktail Bar   \n",
       "2     Indian Restaurant        Ice Cream Shop         Grocery Store   \n",
       "3          Burger Joint   Japanese Restaurant        Sandwich Place   \n",
       "4               Theater          Burger Joint         Indie Theater   \n",
       "\n",
       "  5th Most Common Venue  \n",
       "0                 Diner  \n",
       "1              Tea Room  \n",
       "2           Coffee Shop  \n",
       "3      Sushi Restaurant  \n",
       "4   Japanese Restaurant  "
      ]
     },
     "execution_count": 27,
     "metadata": {},
     "output_type": "execute_result"
    }
   ],
   "source": [
    "num_top_venues = 5\n",
    "\n",
    "indicators = ['st', 'nd', 'rd']\n",
    "\n",
    "# create columns according to number of top venues\n",
    "columns = ['name']\n",
    "for ind in np.arange(num_top_venues):\n",
    "    try:\n",
    "        columns.append('{}{} Most Common Venue'.format(ind+1, indicators[ind]))\n",
    "    except:\n",
    "        columns.append('{}th Most Common Venue'.format(ind+1))\n",
    "\n",
    "# create a new dataframe\n",
    "airbnb_venues_sorted = pd.DataFrame(columns=columns)\n",
    "airbnb_venues_sorted['name'] = airbnb_grouped['name']\n",
    "\n",
    "for ind in np.arange(airbnb_grouped.shape[0]):\n",
    "    airbnb_venues_sorted.iloc[ind, 1:] = return_most_common_venues(airbnb_grouped.iloc[ind, :], num_top_venues)\n",
    "\n",
    "airbnb_venues_sorted.head()"
   ]
  },
  {
   "cell_type": "markdown",
   "metadata": {},
   "source": [
    "### Clustering similar Airbnbs\n",
    "\n",
    "To gain further insight into the venues nearby each listing, we can group listings based on similar nearby venues. We use k means clustering with 3 clusters to do this."
   ]
  },
  {
   "cell_type": "code",
   "execution_count": 28,
   "metadata": {},
   "outputs": [
    {
     "data": {
      "text/plain": [
       "array([1, 0, 1, 2, 2, 1, 1, 1, 1, 1], dtype=int32)"
      ]
     },
     "execution_count": 28,
     "metadata": {},
     "output_type": "execute_result"
    }
   ],
   "source": [
    "# set number of clusters\n",
    "kclusters = 3\n",
    "\n",
    "airbnb_grouped_clustering = airbnb_grouped.drop('name', 1)\n",
    "\n",
    "# run k-means clustering\n",
    "kmeans = KMeans(n_clusters=kclusters, random_state=0).fit(airbnb_grouped_clustering)\n",
    "\n",
    "# check cluster labels generated for each row in the dataframe\n",
    "kmeans.labels_[0:10] "
   ]
  },
  {
   "cell_type": "code",
   "execution_count": 29,
   "metadata": {},
   "outputs": [
    {
     "data": {
      "text/html": [
       "<div>\n",
       "<style scoped>\n",
       "    .dataframe tbody tr th:only-of-type {\n",
       "        vertical-align: middle;\n",
       "    }\n",
       "\n",
       "    .dataframe tbody tr th {\n",
       "        vertical-align: top;\n",
       "    }\n",
       "\n",
       "    .dataframe thead th {\n",
       "        text-align: right;\n",
       "    }\n",
       "</style>\n",
       "<table border=\"1\" class=\"dataframe\">\n",
       "  <thead>\n",
       "    <tr style=\"text-align: right;\">\n",
       "      <th></th>\n",
       "      <th>id</th>\n",
       "      <th>name</th>\n",
       "      <th>host_id</th>\n",
       "      <th>host_name</th>\n",
       "      <th>neighbourhood_group</th>\n",
       "      <th>neighbourhood</th>\n",
       "      <th>latitude</th>\n",
       "      <th>longitude</th>\n",
       "      <th>room_type</th>\n",
       "      <th>price</th>\n",
       "      <th>minimum_nights</th>\n",
       "      <th>number_of_reviews</th>\n",
       "      <th>availability_365</th>\n",
       "      <th>dist</th>\n",
       "      <th>Cluster Labels</th>\n",
       "      <th>1st Most Common Venue</th>\n",
       "      <th>2nd Most Common Venue</th>\n",
       "      <th>3rd Most Common Venue</th>\n",
       "      <th>4th Most Common Venue</th>\n",
       "      <th>5th Most Common Venue</th>\n",
       "    </tr>\n",
       "  </thead>\n",
       "  <tbody>\n",
       "    <tr>\n",
       "      <th>0</th>\n",
       "      <td>12048</td>\n",
       "      <td>LowerEastSide apt share shortterm 1</td>\n",
       "      <td>7549</td>\n",
       "      <td>Ben</td>\n",
       "      <td>Manhattan</td>\n",
       "      <td>Lower East Side</td>\n",
       "      <td>40.71401</td>\n",
       "      <td>-73.98917</td>\n",
       "      <td>Shared room</td>\n",
       "      <td>40</td>\n",
       "      <td>1</td>\n",
       "      <td>214</td>\n",
       "      <td>188</td>\n",
       "      <td>1.797145</td>\n",
       "      <td>0</td>\n",
       "      <td>Coffee Shop</td>\n",
       "      <td>Mediterranean Restaurant</td>\n",
       "      <td>Dumpling Restaurant</td>\n",
       "      <td>Spanish Restaurant</td>\n",
       "      <td>Mexican Restaurant</td>\n",
       "    </tr>\n",
       "    <tr>\n",
       "      <th>1</th>\n",
       "      <td>392948</td>\n",
       "      <td>Williamsburg near soho .support artist living</td>\n",
       "      <td>312722</td>\n",
       "      <td>Kristian &amp; Di</td>\n",
       "      <td>Brooklyn</td>\n",
       "      <td>Williamsburg</td>\n",
       "      <td>40.70994</td>\n",
       "      <td>-73.96573</td>\n",
       "      <td>Private room</td>\n",
       "      <td>45</td>\n",
       "      <td>15</td>\n",
       "      <td>15</td>\n",
       "      <td>242</td>\n",
       "      <td>3.351582</td>\n",
       "      <td>1</td>\n",
       "      <td>Pizza Place</td>\n",
       "      <td>Cocktail Bar</td>\n",
       "      <td>Café</td>\n",
       "      <td>Yoga Studio</td>\n",
       "      <td>Bar</td>\n",
       "    </tr>\n",
       "    <tr>\n",
       "      <th>2</th>\n",
       "      <td>1399273</td>\n",
       "      <td>NYC - furnished room - Greenpoint</td>\n",
       "      <td>7130382</td>\n",
       "      <td>Walter</td>\n",
       "      <td>Brooklyn</td>\n",
       "      <td>Greenpoint</td>\n",
       "      <td>40.72991</td>\n",
       "      <td>-73.95208</td>\n",
       "      <td>Private room</td>\n",
       "      <td>45</td>\n",
       "      <td>4</td>\n",
       "      <td>7</td>\n",
       "      <td>88</td>\n",
       "      <td>3.723800</td>\n",
       "      <td>1</td>\n",
       "      <td>Coffee Shop</td>\n",
       "      <td>Mexican Restaurant</td>\n",
       "      <td>Café</td>\n",
       "      <td>Yoga Studio</td>\n",
       "      <td>Szechuan Restaurant</td>\n",
       "    </tr>\n",
       "    <tr>\n",
       "      <th>3</th>\n",
       "      <td>1578721</td>\n",
       "      <td>Huge, Sunny Greenpoint Flat</td>\n",
       "      <td>999689</td>\n",
       "      <td>Eric</td>\n",
       "      <td>Brooklyn</td>\n",
       "      <td>Greenpoint</td>\n",
       "      <td>40.72887</td>\n",
       "      <td>-73.95163</td>\n",
       "      <td>Private room</td>\n",
       "      <td>35</td>\n",
       "      <td>30</td>\n",
       "      <td>5</td>\n",
       "      <td>97</td>\n",
       "      <td>3.761273</td>\n",
       "      <td>1</td>\n",
       "      <td>Coffee Shop</td>\n",
       "      <td>Mexican Restaurant</td>\n",
       "      <td>Polish Restaurant</td>\n",
       "      <td>Bagel Shop</td>\n",
       "      <td>Laundry Service</td>\n",
       "    </tr>\n",
       "    <tr>\n",
       "      <th>4</th>\n",
       "      <td>1801036</td>\n",
       "      <td>Private room with sleeping loft</td>\n",
       "      <td>8200820</td>\n",
       "      <td>Valerie</td>\n",
       "      <td>Brooklyn</td>\n",
       "      <td>Williamsburg</td>\n",
       "      <td>40.71870</td>\n",
       "      <td>-73.95133</td>\n",
       "      <td>Private room</td>\n",
       "      <td>45</td>\n",
       "      <td>2</td>\n",
       "      <td>14</td>\n",
       "      <td>36</td>\n",
       "      <td>3.964275</td>\n",
       "      <td>1</td>\n",
       "      <td>Bar</td>\n",
       "      <td>Yoga Studio</td>\n",
       "      <td>Pet Store</td>\n",
       "      <td>Peruvian Restaurant</td>\n",
       "      <td>Dessert Shop</td>\n",
       "    </tr>\n",
       "  </tbody>\n",
       "</table>\n",
       "</div>"
      ],
      "text/plain": [
       "        id                                           name  host_id  \\\n",
       "0    12048            LowerEastSide apt share shortterm 1     7549   \n",
       "1   392948  Williamsburg near soho .support artist living   312722   \n",
       "2  1399273             NYC - furnished room - Greenpoint   7130382   \n",
       "3  1578721                    Huge, Sunny Greenpoint Flat   999689   \n",
       "4  1801036                Private room with sleeping loft  8200820   \n",
       "\n",
       "       host_name neighbourhood_group    neighbourhood  latitude  longitude  \\\n",
       "0            Ben           Manhattan  Lower East Side  40.71401  -73.98917   \n",
       "1  Kristian & Di            Brooklyn     Williamsburg  40.70994  -73.96573   \n",
       "2         Walter            Brooklyn       Greenpoint  40.72991  -73.95208   \n",
       "3           Eric            Brooklyn       Greenpoint  40.72887  -73.95163   \n",
       "4        Valerie            Brooklyn     Williamsburg  40.71870  -73.95133   \n",
       "\n",
       "      room_type  price  minimum_nights  number_of_reviews  availability_365  \\\n",
       "0   Shared room     40               1                214               188   \n",
       "1  Private room     45              15                 15               242   \n",
       "2  Private room     45               4                  7                88   \n",
       "3  Private room     35              30                  5                97   \n",
       "4  Private room     45               2                 14                36   \n",
       "\n",
       "       dist  Cluster Labels 1st Most Common Venue     2nd Most Common Venue  \\\n",
       "0  1.797145               0           Coffee Shop  Mediterranean Restaurant   \n",
       "1  3.351582               1           Pizza Place              Cocktail Bar   \n",
       "2  3.723800               1           Coffee Shop        Mexican Restaurant   \n",
       "3  3.761273               1           Coffee Shop        Mexican Restaurant   \n",
       "4  3.964275               1                   Bar               Yoga Studio   \n",
       "\n",
       "  3rd Most Common Venue 4th Most Common Venue 5th Most Common Venue  \n",
       "0   Dumpling Restaurant    Spanish Restaurant    Mexican Restaurant  \n",
       "1                  Café           Yoga Studio                   Bar  \n",
       "2                  Café           Yoga Studio   Szechuan Restaurant  \n",
       "3     Polish Restaurant            Bagel Shop       Laundry Service  \n",
       "4             Pet Store   Peruvian Restaurant          Dessert Shop  "
      ]
     },
     "execution_count": 29,
     "metadata": {},
     "output_type": "execute_result"
    }
   ],
   "source": [
    "# add clustering labels\n",
    "airbnb_venues_sorted.insert(0, 'Cluster Labels', kmeans.labels_)\n",
    "\n",
    "airbnb_merged = airbnb\n",
    "\n",
    "# merge airbnb_merged and airbnb_venues_sorted to add latitude/longitude for each neighborhood\n",
    "airbnb_merged = airbnb_merged.join(airbnb_venues_sorted.set_index('name'), on='name')\n",
    "\n",
    "airbnb_merged.head() "
   ]
  },
  {
   "cell_type": "markdown",
   "metadata": {},
   "source": [
    "Let's plot a map to see where each cluster is located."
   ]
  },
  {
   "cell_type": "code",
   "execution_count": 30,
   "metadata": {},
   "outputs": [
    {
     "data": {
      "text/html": [
       "<div style=\"width:100%;\"><div style=\"position:relative;width:100%;height:0;padding-bottom:60%;\"><span style=\"color:#565656\">Make this Notebook Trusted to load map: File -> Trust Notebook</span><iframe src=\"about:blank\" style=\"position:absolute;width:100%;height:100%;left:0;top:0;border:none !important;\" data-html=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 onload=\"this.contentDocument.open();this.contentDocument.write(atob(this.getAttribute('data-html')));this.contentDocument.close();\" allowfullscreen webkitallowfullscreen mozallowfullscreen></iframe></div></div>"
      ],
      "text/plain": [
       "<folium.folium.Map at 0x7fcc6b8fee90>"
      ]
     },
     "execution_count": 30,
     "metadata": {},
     "output_type": "execute_result"
    }
   ],
   "source": [
    "# create map\n",
    "map_clusters = folium.Map(location=[nyu_latitude, nyu_longitude], zoom_start=13)\n",
    "\n",
    "# set color scheme for the clusters\n",
    "x = np.arange(kclusters)\n",
    "ys = [i + x + (i*x)**2 for i in range(kclusters)]\n",
    "colors_array = cm.rainbow(np.linspace(0, 1, len(ys)))\n",
    "rainbow = [colors.rgb2hex(i) for i in colors_array]\n",
    "\n",
    "# add markers to the map\n",
    "markers_colors = []\n",
    "for lat, lon, poi, cluster in zip(airbnb_merged['latitude'], airbnb_merged['longitude'], airbnb_merged['name'], airbnb_merged['Cluster Labels']):\n",
    "    label = folium.Popup(str(poi) + ' Cluster ' + str(cluster), parse_html=True)\n",
    "    folium.CircleMarker(\n",
    "        [lat, lon],\n",
    "        radius=5,\n",
    "        popup=label,\n",
    "        color=rainbow[cluster-1],\n",
    "        fill=True,\n",
    "        fill_color=rainbow[cluster-1],\n",
    "        fill_opacity=0.7).add_to(map_clusters)\n",
    "    \n",
    "# add NYU marker to map\n",
    "label = folium.Popup('NYU', parse_html=True)\n",
    "folium.CircleMarker(\n",
    "    [nyu_latitude, nyu_longitude],\n",
    "    radius=7,\n",
    "    popup=label,\n",
    "    color='black',\n",
    "    fill=True,\n",
    "    fill_color='purple',\n",
    "    fill_opacity=1,\n",
    "    parse_html=False).add_to(map_clusters)  \n",
    "       \n",
    "map_clusters"
   ]
  },
  {
   "cell_type": "markdown",
   "metadata": {},
   "source": [
    "### Examining Clusters\n",
    "\n",
    "Let's try to find some common features within each cluster."
   ]
  },
  {
   "cell_type": "markdown",
   "metadata": {},
   "source": [
    "#### Cluster 1 (red markers)"
   ]
  },
  {
   "cell_type": "markdown",
   "metadata": {},
   "source": [
    "Quick look of cluster:"
   ]
  },
  {
   "cell_type": "code",
   "execution_count": 31,
   "metadata": {},
   "outputs": [
    {
     "name": "stdout",
     "output_type": "stream",
     "text": [
      "(11, 16)\n"
     ]
    },
    {
     "data": {
      "text/html": [
       "<div>\n",
       "<style scoped>\n",
       "    .dataframe tbody tr th:only-of-type {\n",
       "        vertical-align: middle;\n",
       "    }\n",
       "\n",
       "    .dataframe tbody tr th {\n",
       "        vertical-align: top;\n",
       "    }\n",
       "\n",
       "    .dataframe thead th {\n",
       "        text-align: right;\n",
       "    }\n",
       "</style>\n",
       "<table border=\"1\" class=\"dataframe\">\n",
       "  <thead>\n",
       "    <tr style=\"text-align: right;\">\n",
       "      <th></th>\n",
       "      <th>name</th>\n",
       "      <th>neighbourhood</th>\n",
       "      <th>latitude</th>\n",
       "      <th>longitude</th>\n",
       "      <th>room_type</th>\n",
       "      <th>price</th>\n",
       "      <th>minimum_nights</th>\n",
       "      <th>number_of_reviews</th>\n",
       "      <th>availability_365</th>\n",
       "      <th>dist</th>\n",
       "      <th>Cluster Labels</th>\n",
       "      <th>1st Most Common Venue</th>\n",
       "      <th>2nd Most Common Venue</th>\n",
       "      <th>3rd Most Common Venue</th>\n",
       "      <th>4th Most Common Venue</th>\n",
       "      <th>5th Most Common Venue</th>\n",
       "    </tr>\n",
       "  </thead>\n",
       "  <tbody>\n",
       "    <tr>\n",
       "      <th>0</th>\n",
       "      <td>LowerEastSide apt share shortterm 1</td>\n",
       "      <td>Lower East Side</td>\n",
       "      <td>40.71401</td>\n",
       "      <td>-73.98917</td>\n",
       "      <td>Shared room</td>\n",
       "      <td>40</td>\n",
       "      <td>1</td>\n",
       "      <td>214</td>\n",
       "      <td>188</td>\n",
       "      <td>1.797145</td>\n",
       "      <td>0</td>\n",
       "      <td>Coffee Shop</td>\n",
       "      <td>Mediterranean Restaurant</td>\n",
       "      <td>Dumpling Restaurant</td>\n",
       "      <td>Spanish Restaurant</td>\n",
       "      <td>Mexican Restaurant</td>\n",
       "    </tr>\n",
       "    <tr>\n",
       "      <th>1</th>\n",
       "      <td>Shared male Room on Manhattan. Amazing view! II</td>\n",
       "      <td>Lower East Side</td>\n",
       "      <td>40.70993</td>\n",
       "      <td>-73.98700</td>\n",
       "      <td>Shared room</td>\n",
       "      <td>35</td>\n",
       "      <td>14</td>\n",
       "      <td>6</td>\n",
       "      <td>201</td>\n",
       "      <td>2.286069</td>\n",
       "      <td>0</td>\n",
       "      <td>Ice Cream Shop</td>\n",
       "      <td>Vegetarian / Vegan Restaurant</td>\n",
       "      <td>French Restaurant</td>\n",
       "      <td>Mediterranean Restaurant</td>\n",
       "      <td>Café</td>\n",
       "    </tr>\n",
       "    <tr>\n",
       "      <th>2</th>\n",
       "      <td>Shared male room on Manhattan with crazy view! I</td>\n",
       "      <td>Lower East Side</td>\n",
       "      <td>40.70985</td>\n",
       "      <td>-73.98724</td>\n",
       "      <td>Shared room</td>\n",
       "      <td>35</td>\n",
       "      <td>14</td>\n",
       "      <td>2</td>\n",
       "      <td>320</td>\n",
       "      <td>2.287639</td>\n",
       "      <td>0</td>\n",
       "      <td>Cocktail Bar</td>\n",
       "      <td>Vegetarian / Vegan Restaurant</td>\n",
       "      <td>French Restaurant</td>\n",
       "      <td>Mediterranean Restaurant</td>\n",
       "      <td>Café</td>\n",
       "    </tr>\n",
       "    <tr>\n",
       "      <th>3</th>\n",
       "      <td>Fresh and cozy male room on Manhattan III</td>\n",
       "      <td>Lower East Side</td>\n",
       "      <td>40.71110</td>\n",
       "      <td>-73.98865</td>\n",
       "      <td>Shared room</td>\n",
       "      <td>32</td>\n",
       "      <td>14</td>\n",
       "      <td>4</td>\n",
       "      <td>341</td>\n",
       "      <td>2.118048</td>\n",
       "      <td>0</td>\n",
       "      <td>Chinese Restaurant</td>\n",
       "      <td>Mexican Restaurant</td>\n",
       "      <td>Malay Restaurant</td>\n",
       "      <td>Tea Room</td>\n",
       "      <td>Cocktail Bar</td>\n",
       "    </tr>\n",
       "    <tr>\n",
       "      <th>4</th>\n",
       "      <td>Amazing cozy and warm male room on Manhattan IV</td>\n",
       "      <td>Lower East Side</td>\n",
       "      <td>40.71172</td>\n",
       "      <td>-73.98665</td>\n",
       "      <td>Shared room</td>\n",
       "      <td>35</td>\n",
       "      <td>14</td>\n",
       "      <td>3</td>\n",
       "      <td>322</td>\n",
       "      <td>2.111138</td>\n",
       "      <td>0</td>\n",
       "      <td>Chinese Restaurant</td>\n",
       "      <td>Coffee Shop</td>\n",
       "      <td>Mexican Restaurant</td>\n",
       "      <td>Cocktail Bar</td>\n",
       "      <td>Tea Room</td>\n",
       "    </tr>\n",
       "  </tbody>\n",
       "</table>\n",
       "</div>"
      ],
      "text/plain": [
       "                                               name    neighbourhood  \\\n",
       "0               LowerEastSide apt share shortterm 1  Lower East Side   \n",
       "1   Shared male Room on Manhattan. Amazing view! II  Lower East Side   \n",
       "2  Shared male room on Manhattan with crazy view! I  Lower East Side   \n",
       "3         Fresh and cozy male room on Manhattan III  Lower East Side   \n",
       "4   Amazing cozy and warm male room on Manhattan IV  Lower East Side   \n",
       "\n",
       "   latitude  longitude    room_type  price  minimum_nights  number_of_reviews  \\\n",
       "0  40.71401  -73.98917  Shared room     40               1                214   \n",
       "1  40.70993  -73.98700  Shared room     35              14                  6   \n",
       "2  40.70985  -73.98724  Shared room     35              14                  2   \n",
       "3  40.71110  -73.98865  Shared room     32              14                  4   \n",
       "4  40.71172  -73.98665  Shared room     35              14                  3   \n",
       "\n",
       "   availability_365      dist  Cluster Labels 1st Most Common Venue  \\\n",
       "0               188  1.797145               0           Coffee Shop   \n",
       "1               201  2.286069               0        Ice Cream Shop   \n",
       "2               320  2.287639               0          Cocktail Bar   \n",
       "3               341  2.118048               0    Chinese Restaurant   \n",
       "4               322  2.111138               0    Chinese Restaurant   \n",
       "\n",
       "           2nd Most Common Venue 3rd Most Common Venue  \\\n",
       "0       Mediterranean Restaurant   Dumpling Restaurant   \n",
       "1  Vegetarian / Vegan Restaurant     French Restaurant   \n",
       "2  Vegetarian / Vegan Restaurant     French Restaurant   \n",
       "3             Mexican Restaurant      Malay Restaurant   \n",
       "4                    Coffee Shop    Mexican Restaurant   \n",
       "\n",
       "      4th Most Common Venue 5th Most Common Venue  \n",
       "0        Spanish Restaurant    Mexican Restaurant  \n",
       "1  Mediterranean Restaurant                  Café  \n",
       "2  Mediterranean Restaurant                  Café  \n",
       "3                  Tea Room          Cocktail Bar  \n",
       "4              Cocktail Bar              Tea Room  "
      ]
     },
     "execution_count": 31,
     "metadata": {},
     "output_type": "execute_result"
    }
   ],
   "source": [
    "Cluster_1 = airbnb_merged.loc[airbnb_merged['Cluster Labels'] == 0, airbnb_merged.columns[[1] + list(range(5, airbnb_merged.shape[1]))]].reset_index(drop=True)\n",
    "print(Cluster_1.shape)\n",
    "Cluster_1.head()"
   ]
  },
  {
   "cell_type": "code",
   "execution_count": 32,
   "metadata": {},
   "outputs": [
    {
     "data": {
      "text/plain": [
       "Chinese Restaurant    6\n",
       "Cocktail Bar          3\n",
       "Coffee Shop           1\n",
       "Ice Cream Shop        1\n",
       "Name: 1st Most Common Venue, dtype: int64"
      ]
     },
     "execution_count": 32,
     "metadata": {},
     "output_type": "execute_result"
    }
   ],
   "source": [
    "Cluster_1['1st Most Common Venue'].value_counts()"
   ]
  },
  {
   "cell_type": "markdown",
   "metadata": {},
   "source": [
    "We can see that the most common venues are chinese restaurants. As shown on the map, this cluster is indeed located at New York City's Chinatown."
   ]
  },
  {
   "cell_type": "code",
   "execution_count": 33,
   "metadata": {},
   "outputs": [
    {
     "data": {
      "text/plain": [
       "34.63636363636363"
      ]
     },
     "execution_count": 33,
     "metadata": {},
     "output_type": "execute_result"
    }
   ],
   "source": [
    "Cluster_1['price'].mean()"
   ]
  },
  {
   "cell_type": "markdown",
   "metadata": {},
   "source": [
    "Cluster 1's prices look fairly cheaper than the other clusters."
   ]
  },
  {
   "cell_type": "markdown",
   "metadata": {},
   "source": [
    "Let's rename Cluster 1 as 'Cheaper_Chinatown_Region' to reflect these two insights."
   ]
  },
  {
   "cell_type": "code",
   "execution_count": 34,
   "metadata": {},
   "outputs": [],
   "source": [
    "Cheaper_Chinatown_Region = Cluster_1"
   ]
  },
  {
   "cell_type": "markdown",
   "metadata": {},
   "source": [
    "#### Cluster 2 (Purple markers)"
   ]
  },
  {
   "cell_type": "code",
   "execution_count": 35,
   "metadata": {},
   "outputs": [
    {
     "name": "stdout",
     "output_type": "stream",
     "text": [
      "(46, 16)\n"
     ]
    },
    {
     "data": {
      "text/html": [
       "<div>\n",
       "<style scoped>\n",
       "    .dataframe tbody tr th:only-of-type {\n",
       "        vertical-align: middle;\n",
       "    }\n",
       "\n",
       "    .dataframe tbody tr th {\n",
       "        vertical-align: top;\n",
       "    }\n",
       "\n",
       "    .dataframe thead th {\n",
       "        text-align: right;\n",
       "    }\n",
       "</style>\n",
       "<table border=\"1\" class=\"dataframe\">\n",
       "  <thead>\n",
       "    <tr style=\"text-align: right;\">\n",
       "      <th></th>\n",
       "      <th>name</th>\n",
       "      <th>neighbourhood</th>\n",
       "      <th>latitude</th>\n",
       "      <th>longitude</th>\n",
       "      <th>room_type</th>\n",
       "      <th>price</th>\n",
       "      <th>minimum_nights</th>\n",
       "      <th>number_of_reviews</th>\n",
       "      <th>availability_365</th>\n",
       "      <th>dist</th>\n",
       "      <th>Cluster Labels</th>\n",
       "      <th>1st Most Common Venue</th>\n",
       "      <th>2nd Most Common Venue</th>\n",
       "      <th>3rd Most Common Venue</th>\n",
       "      <th>4th Most Common Venue</th>\n",
       "      <th>5th Most Common Venue</th>\n",
       "    </tr>\n",
       "  </thead>\n",
       "  <tbody>\n",
       "    <tr>\n",
       "      <th>0</th>\n",
       "      <td>Williamsburg near soho .support artist living</td>\n",
       "      <td>Williamsburg</td>\n",
       "      <td>40.70994</td>\n",
       "      <td>-73.96573</td>\n",
       "      <td>Private room</td>\n",
       "      <td>45</td>\n",
       "      <td>15</td>\n",
       "      <td>15</td>\n",
       "      <td>242</td>\n",
       "      <td>3.351582</td>\n",
       "      <td>1</td>\n",
       "      <td>Pizza Place</td>\n",
       "      <td>Cocktail Bar</td>\n",
       "      <td>Café</td>\n",
       "      <td>Yoga Studio</td>\n",
       "      <td>Bar</td>\n",
       "    </tr>\n",
       "    <tr>\n",
       "      <th>1</th>\n",
       "      <td>NYC - furnished room - Greenpoint</td>\n",
       "      <td>Greenpoint</td>\n",
       "      <td>40.72991</td>\n",
       "      <td>-73.95208</td>\n",
       "      <td>Private room</td>\n",
       "      <td>45</td>\n",
       "      <td>4</td>\n",
       "      <td>7</td>\n",
       "      <td>88</td>\n",
       "      <td>3.723800</td>\n",
       "      <td>1</td>\n",
       "      <td>Coffee Shop</td>\n",
       "      <td>Mexican Restaurant</td>\n",
       "      <td>Café</td>\n",
       "      <td>Yoga Studio</td>\n",
       "      <td>Szechuan Restaurant</td>\n",
       "    </tr>\n",
       "    <tr>\n",
       "      <th>2</th>\n",
       "      <td>Huge, Sunny Greenpoint Flat</td>\n",
       "      <td>Greenpoint</td>\n",
       "      <td>40.72887</td>\n",
       "      <td>-73.95163</td>\n",
       "      <td>Private room</td>\n",
       "      <td>35</td>\n",
       "      <td>30</td>\n",
       "      <td>5</td>\n",
       "      <td>97</td>\n",
       "      <td>3.761273</td>\n",
       "      <td>1</td>\n",
       "      <td>Coffee Shop</td>\n",
       "      <td>Mexican Restaurant</td>\n",
       "      <td>Polish Restaurant</td>\n",
       "      <td>Bagel Shop</td>\n",
       "      <td>Laundry Service</td>\n",
       "    </tr>\n",
       "    <tr>\n",
       "      <th>3</th>\n",
       "      <td>Private room with sleeping loft</td>\n",
       "      <td>Williamsburg</td>\n",
       "      <td>40.71870</td>\n",
       "      <td>-73.95133</td>\n",
       "      <td>Private room</td>\n",
       "      <td>45</td>\n",
       "      <td>2</td>\n",
       "      <td>14</td>\n",
       "      <td>36</td>\n",
       "      <td>3.964275</td>\n",
       "      <td>1</td>\n",
       "      <td>Bar</td>\n",
       "      <td>Yoga Studio</td>\n",
       "      <td>Pet Store</td>\n",
       "      <td>Peruvian Restaurant</td>\n",
       "      <td>Dessert Shop</td>\n",
       "    </tr>\n",
       "    <tr>\n",
       "      <th>4</th>\n",
       "      <td>Coffee,Tea&amp;Milk Astor Place Lodging</td>\n",
       "      <td>East Village</td>\n",
       "      <td>40.72672</td>\n",
       "      <td>-73.98851</td>\n",
       "      <td>Shared room</td>\n",
       "      <td>30</td>\n",
       "      <td>30</td>\n",
       "      <td>125</td>\n",
       "      <td>304</td>\n",
       "      <td>0.710522</td>\n",
       "      <td>1</td>\n",
       "      <td>Coffee Shop</td>\n",
       "      <td>Pizza Place</td>\n",
       "      <td>Vegetarian / Vegan Restaurant</td>\n",
       "      <td>Japanese Restaurant</td>\n",
       "      <td>New American Restaurant</td>\n",
       "    </tr>\n",
       "  </tbody>\n",
       "</table>\n",
       "</div>"
      ],
      "text/plain": [
       "                                            name neighbourhood  latitude  \\\n",
       "0  Williamsburg near soho .support artist living  Williamsburg  40.70994   \n",
       "1             NYC - furnished room - Greenpoint     Greenpoint  40.72991   \n",
       "2                    Huge, Sunny Greenpoint Flat    Greenpoint  40.72887   \n",
       "3                Private room with sleeping loft  Williamsburg  40.71870   \n",
       "4            Coffee,Tea&Milk Astor Place Lodging  East Village  40.72672   \n",
       "\n",
       "   longitude     room_type  price  minimum_nights  number_of_reviews  \\\n",
       "0  -73.96573  Private room     45              15                 15   \n",
       "1  -73.95208  Private room     45               4                  7   \n",
       "2  -73.95163  Private room     35              30                  5   \n",
       "3  -73.95133  Private room     45               2                 14   \n",
       "4  -73.98851   Shared room     30              30                125   \n",
       "\n",
       "   availability_365      dist  Cluster Labels 1st Most Common Venue  \\\n",
       "0               242  3.351582               1           Pizza Place   \n",
       "1                88  3.723800               1           Coffee Shop   \n",
       "2                97  3.761273               1           Coffee Shop   \n",
       "3                36  3.964275               1                   Bar   \n",
       "4               304  0.710522               1           Coffee Shop   \n",
       "\n",
       "  2nd Most Common Venue          3rd Most Common Venue 4th Most Common Venue  \\\n",
       "0          Cocktail Bar                           Café           Yoga Studio   \n",
       "1    Mexican Restaurant                           Café           Yoga Studio   \n",
       "2    Mexican Restaurant              Polish Restaurant            Bagel Shop   \n",
       "3           Yoga Studio                      Pet Store   Peruvian Restaurant   \n",
       "4           Pizza Place  Vegetarian / Vegan Restaurant   Japanese Restaurant   \n",
       "\n",
       "     5th Most Common Venue  \n",
       "0                      Bar  \n",
       "1      Szechuan Restaurant  \n",
       "2          Laundry Service  \n",
       "3             Dessert Shop  \n",
       "4  New American Restaurant  "
      ]
     },
     "execution_count": 35,
     "metadata": {},
     "output_type": "execute_result"
    }
   ],
   "source": [
    "Cluster_2 = airbnb_merged.loc[airbnb_merged['Cluster Labels'] == 1, airbnb_merged.columns[[1] + list(range(5, airbnb_merged.shape[1]))]].reset_index(drop=True)\n",
    "print(Cluster_2.shape)\n",
    "Cluster_2.head()"
   ]
  },
  {
   "cell_type": "markdown",
   "metadata": {},
   "source": [
    "Cluster 2 is the largest cluster by far, with 45 listings."
   ]
  },
  {
   "cell_type": "code",
   "execution_count": 36,
   "metadata": {},
   "outputs": [
    {
     "data": {
      "text/plain": [
       "Coffee Shop                 10\n",
       "Bakery                       4\n",
       "Indian Restaurant            4\n",
       "Grocery Store                3\n",
       "Pizza Place                  3\n",
       "Bar                          3\n",
       "Polish Restaurant            2\n",
       "Cocktail Bar                 2\n",
       "Gym / Fitness Center         2\n",
       "Café                         2\n",
       "Wine Bar                     1\n",
       "Yoga Studio                  1\n",
       "American Restaurant          1\n",
       "Italian Restaurant           1\n",
       "Thrift / Vintage Store       1\n",
       "Clothing Store               1\n",
       "Pub                          1\n",
       "Mediterranean Restaurant     1\n",
       "Thai Restaurant              1\n",
       "Japanese Restaurant          1\n",
       "Music Venue                  1\n",
       "Name: 1st Most Common Venue, dtype: int64"
      ]
     },
     "execution_count": 36,
     "metadata": {},
     "output_type": "execute_result"
    }
   ],
   "source": [
    "Cluster_2['1st Most Common Venue'].value_counts()"
   ]
  },
  {
   "cell_type": "code",
   "execution_count": 37,
   "metadata": {},
   "outputs": [
    {
     "data": {
      "text/plain": [
       "39.80434782608695"
      ]
     },
     "execution_count": 37,
     "metadata": {},
     "output_type": "execute_result"
    }
   ],
   "source": [
    "Cluster_2['price'].mean()"
   ]
  },
  {
   "cell_type": "markdown",
   "metadata": {},
   "source": [
    "As there are not many defining factors for Cluster 2 - prices are about average, and locations are spread far apart - we rename it 'General_Region'."
   ]
  },
  {
   "cell_type": "code",
   "execution_count": 38,
   "metadata": {},
   "outputs": [],
   "source": [
    "General_Region = Cluster_2"
   ]
  },
  {
   "cell_type": "markdown",
   "metadata": {},
   "source": [
    "#### Cluster 3 (Turquoise Clusters)"
   ]
  },
  {
   "cell_type": "code",
   "execution_count": 39,
   "metadata": {},
   "outputs": [
    {
     "name": "stdout",
     "output_type": "stream",
     "text": [
      "(4, 16)\n"
     ]
    },
    {
     "data": {
      "text/html": [
       "<div>\n",
       "<style scoped>\n",
       "    .dataframe tbody tr th:only-of-type {\n",
       "        vertical-align: middle;\n",
       "    }\n",
       "\n",
       "    .dataframe tbody tr th {\n",
       "        vertical-align: top;\n",
       "    }\n",
       "\n",
       "    .dataframe thead th {\n",
       "        text-align: right;\n",
       "    }\n",
       "</style>\n",
       "<table border=\"1\" class=\"dataframe\">\n",
       "  <thead>\n",
       "    <tr style=\"text-align: right;\">\n",
       "      <th></th>\n",
       "      <th>name</th>\n",
       "      <th>neighbourhood</th>\n",
       "      <th>latitude</th>\n",
       "      <th>longitude</th>\n",
       "      <th>room_type</th>\n",
       "      <th>price</th>\n",
       "      <th>minimum_nights</th>\n",
       "      <th>number_of_reviews</th>\n",
       "      <th>availability_365</th>\n",
       "      <th>dist</th>\n",
       "      <th>Cluster Labels</th>\n",
       "      <th>1st Most Common Venue</th>\n",
       "      <th>2nd Most Common Venue</th>\n",
       "      <th>3rd Most Common Venue</th>\n",
       "      <th>4th Most Common Venue</th>\n",
       "      <th>5th Most Common Venue</th>\n",
       "    </tr>\n",
       "  </thead>\n",
       "  <tbody>\n",
       "    <tr>\n",
       "      <th>0</th>\n",
       "      <td>The best deal, really close to Times Square</td>\n",
       "      <td>Theater District</td>\n",
       "      <td>40.75863</td>\n",
       "      <td>-73.98812</td>\n",
       "      <td>Private room</td>\n",
       "      <td>40</td>\n",
       "      <td>1</td>\n",
       "      <td>163</td>\n",
       "      <td>102</td>\n",
       "      <td>3.338979</td>\n",
       "      <td>2</td>\n",
       "      <td>Theater</td>\n",
       "      <td>Burger Joint</td>\n",
       "      <td>Office</td>\n",
       "      <td>Taco Place</td>\n",
       "      <td>Resort</td>\n",
       "    </tr>\n",
       "    <tr>\n",
       "      <th>1</th>\n",
       "      <td>BEST DEAL in NYC - Cute and Cozy Room Times Sq...</td>\n",
       "      <td>Hell's Kitchen</td>\n",
       "      <td>40.75854</td>\n",
       "      <td>-73.98988</td>\n",
       "      <td>Private room</td>\n",
       "      <td>35</td>\n",
       "      <td>3</td>\n",
       "      <td>101</td>\n",
       "      <td>68</td>\n",
       "      <td>3.301851</td>\n",
       "      <td>2</td>\n",
       "      <td>Theater</td>\n",
       "      <td>Burger Joint</td>\n",
       "      <td>Japanese Restaurant</td>\n",
       "      <td>Sandwich Place</td>\n",
       "      <td>Sushi Restaurant</td>\n",
       "    </tr>\n",
       "    <tr>\n",
       "      <th>2</th>\n",
       "      <td>BEST LOCATION - Lovely room by Times Square!!!</td>\n",
       "      <td>Hell's Kitchen</td>\n",
       "      <td>40.75859</td>\n",
       "      <td>-73.99195</td>\n",
       "      <td>Private room</td>\n",
       "      <td>39</td>\n",
       "      <td>3</td>\n",
       "      <td>84</td>\n",
       "      <td>17</td>\n",
       "      <td>3.283540</td>\n",
       "      <td>2</td>\n",
       "      <td>Sandwich Place</td>\n",
       "      <td>Theater</td>\n",
       "      <td>Burger Joint</td>\n",
       "      <td>Indie Theater</td>\n",
       "      <td>Japanese Restaurant</td>\n",
       "    </tr>\n",
       "    <tr>\n",
       "      <th>3</th>\n",
       "      <td>KING Room w Private Entrance - Times Square</td>\n",
       "      <td>Hell's Kitchen</td>\n",
       "      <td>40.75759</td>\n",
       "      <td>-73.99006</td>\n",
       "      <td>Private room</td>\n",
       "      <td>45</td>\n",
       "      <td>3</td>\n",
       "      <td>72</td>\n",
       "      <td>86</td>\n",
       "      <td>3.195124</td>\n",
       "      <td>2</td>\n",
       "      <td>Theater</td>\n",
       "      <td>Hotel</td>\n",
       "      <td>Jazz Club</td>\n",
       "      <td>Cocktail Bar</td>\n",
       "      <td>Exhibit</td>\n",
       "    </tr>\n",
       "  </tbody>\n",
       "</table>\n",
       "</div>"
      ],
      "text/plain": [
       "                                                name     neighbourhood  \\\n",
       "0        The best deal, really close to Times Square  Theater District   \n",
       "1  BEST DEAL in NYC - Cute and Cozy Room Times Sq...    Hell's Kitchen   \n",
       "2     BEST LOCATION - Lovely room by Times Square!!!    Hell's Kitchen   \n",
       "3        KING Room w Private Entrance - Times Square    Hell's Kitchen   \n",
       "\n",
       "   latitude  longitude     room_type  price  minimum_nights  \\\n",
       "0  40.75863  -73.98812  Private room     40               1   \n",
       "1  40.75854  -73.98988  Private room     35               3   \n",
       "2  40.75859  -73.99195  Private room     39               3   \n",
       "3  40.75759  -73.99006  Private room     45               3   \n",
       "\n",
       "   number_of_reviews  availability_365      dist  Cluster Labels  \\\n",
       "0                163               102  3.338979               2   \n",
       "1                101                68  3.301851               2   \n",
       "2                 84                17  3.283540               2   \n",
       "3                 72                86  3.195124               2   \n",
       "\n",
       "  1st Most Common Venue 2nd Most Common Venue 3rd Most Common Venue  \\\n",
       "0               Theater          Burger Joint                Office   \n",
       "1               Theater          Burger Joint   Japanese Restaurant   \n",
       "2        Sandwich Place               Theater          Burger Joint   \n",
       "3               Theater                 Hotel             Jazz Club   \n",
       "\n",
       "  4th Most Common Venue 5th Most Common Venue  \n",
       "0            Taco Place                Resort  \n",
       "1        Sandwich Place      Sushi Restaurant  \n",
       "2         Indie Theater   Japanese Restaurant  \n",
       "3          Cocktail Bar               Exhibit  "
      ]
     },
     "execution_count": 39,
     "metadata": {},
     "output_type": "execute_result"
    }
   ],
   "source": [
    "Cluster_3 = airbnb_merged.loc[airbnb_merged['Cluster Labels'] == 2, airbnb_merged.columns[[1] + list(range(5, airbnb_merged.shape[1]))]].reset_index(drop=True)\n",
    "print(Cluster_3.shape)\n",
    "Cluster_3.head()"
   ]
  },
  {
   "cell_type": "code",
   "execution_count": 40,
   "metadata": {},
   "outputs": [
    {
     "data": {
      "text/plain": [
       "Theater           3\n",
       "Sandwich Place    1\n",
       "Name: 1st Most Common Venue, dtype: int64"
      ]
     },
     "execution_count": 40,
     "metadata": {},
     "output_type": "execute_result"
    }
   ],
   "source": [
    "Cluster_3['1st Most Common Venue'].value_counts()"
   ]
  },
  {
   "cell_type": "code",
   "execution_count": 41,
   "metadata": {},
   "outputs": [
    {
     "data": {
      "text/plain": [
       "39.75"
      ]
     },
     "execution_count": 41,
     "metadata": {},
     "output_type": "execute_result"
    }
   ],
   "source": [
    "Cluster_3['price'].mean()"
   ]
  },
  {
   "cell_type": "markdown",
   "metadata": {},
   "source": [
    "We see Cluster 3 is the smallest cluster, and the 1st most common venues mostly consist of theaters. We hence rename it 'Theatre_Region'."
   ]
  },
  {
   "cell_type": "code",
   "execution_count": 42,
   "metadata": {},
   "outputs": [],
   "source": [
    "Theatre_Region = Cluster_3"
   ]
  },
  {
   "cell_type": "markdown",
   "metadata": {},
   "source": [
    "## 4. Conclusion"
   ]
  },
  {
   "cell_type": "markdown",
   "metadata": {},
   "source": [
    "In this project, we have successfully picked out 61 listings based on features desirable to students attending NYU, such as price, distance to the university, and availability. We have further grouped these 61 listings into 3 clusters depending on the types of nearby venues as starting points of exploration for stakeholders. Future research could improve on this through using more recent data as well as using the elbow method to choose the optimum amount of clusters."
   ]
  }
 ],
 "metadata": {
  "kernelspec": {
   "display_name": "Python 3",
   "language": "python",
   "name": "python3"
  },
  "language_info": {
   "codemirror_mode": {
    "name": "ipython",
    "version": 3
   },
   "file_extension": ".py",
   "mimetype": "text/x-python",
   "name": "python",
   "nbconvert_exporter": "python",
   "pygments_lexer": "ipython3",
   "version": "3.7.6"
  }
 },
 "nbformat": 4,
 "nbformat_minor": 4
}
